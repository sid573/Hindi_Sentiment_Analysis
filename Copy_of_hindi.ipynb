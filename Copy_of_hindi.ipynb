{
 "cells": [
  {
   "cell_type": "code",
   "execution_count": 0,
   "metadata": {
    "colab": {
     "base_uri": "https://localhost:8080/",
     "height": 35
    },
    "colab_type": "code",
    "id": "xnkHc0usvUXM",
    "outputId": "7ac73f55-4f26-493a-80fc-c71cd61ea04c"
   },
   "outputs": [
    {
     "name": "stdout",
     "output_type": "stream",
     "text": [
      "Drive already mounted at /content/gdrive; to attempt to forcibly remount, call drive.mount(\"/content/gdrive\", force_remount=True).\n"
     ]
    }
   ],
   "source": [
    "from google.colab import drive\n",
    "drive.mount('/content/gdrive')"
   ]
  },
  {
   "cell_type": "code",
   "execution_count": 0,
   "metadata": {
    "colab": {
     "base_uri": "https://localhost:8080/",
     "height": 35
    },
    "colab_type": "code",
    "id": "Q3UVwJvvv0Z_",
    "outputId": "d6a9a2d3-8de6-4900-858c-a2f3be7f9be0"
   },
   "outputs": [
    {
     "data": {
      "text/plain": [
       "'/content/gdrive/My Drive/op2'"
      ]
     },
     "execution_count": 66,
     "metadata": {
      "tags": []
     },
     "output_type": "execute_result"
    }
   ],
   "source": [
    "pwd\n"
   ]
  },
  {
   "cell_type": "code",
   "execution_count": 0,
   "metadata": {
    "colab": {
     "base_uri": "https://localhost:8080/",
     "height": 53
    },
    "colab_type": "code",
    "id": "eMrOZ9hmwCKn",
    "outputId": "d1396238-8310-45b6-ce73-c585eac4a220"
   },
   "outputs": [
    {
     "name": "stdout",
     "output_type": "stream",
     "text": [
      "[Errno 2] No such file or directory: 'gdrive/My Drive'\n",
      "/content/gdrive/My Drive/op2\n"
     ]
    }
   ],
   "source": [
    "cd gdrive/My Drive\n"
   ]
  },
  {
   "cell_type": "code",
   "execution_count": 0,
   "metadata": {
    "colab": {
     "base_uri": "https://localhost:8080/",
     "height": 35
    },
    "colab_type": "code",
    "id": "kMoOQwlRwE1O",
    "outputId": "93374677-d69f-4635-8e7a-d24bfc7b404a"
   },
   "outputs": [
    {
     "data": {
      "text/plain": [
       "'/content/gdrive/My Drive'"
      ]
     },
     "execution_count": 4,
     "metadata": {
      "tags": []
     },
     "output_type": "execute_result"
    }
   ],
   "source": [
    "pwd"
   ]
  },
  {
   "cell_type": "code",
   "execution_count": 146,
   "metadata": {
    "colab": {
     "base_uri": "https://localhost:8080/",
     "height": 54
    },
    "colab_type": "code",
    "id": "KE4TDoEnwGNy",
    "outputId": "4d6e671f-c768-4264-de16-e8e75fd9d38e"
   },
   "outputs": [
    {
     "name": "stdout",
     "output_type": "stream",
     "text": [
      "[Errno 2] No such file or directory: 'op2'\n",
      "/content/gdrive/My Drive/op2\n"
     ]
    }
   ],
   "source": [
    "cd op2"
   ]
  },
  {
   "cell_type": "code",
   "execution_count": 0,
   "metadata": {
    "colab": {},
    "colab_type": "code",
    "id": "Z4mNP9q6wX3X"
   },
   "outputs": [],
   "source": [
    "from fastai.text import *"
   ]
  },
  {
   "cell_type": "code",
   "execution_count": 269,
   "metadata": {
    "colab": {
     "base_uri": "https://localhost:8080/",
     "height": 163
    },
    "colab_type": "code",
    "id": "sO7ypNt4wZs1",
    "outputId": "a047ff88-5fe1-4fe4-bb86-676b496015f1"
   },
   "outputs": [
    {
     "name": "stdout",
     "output_type": "stream",
     "text": [
      "Requirement already satisfied: pandas_ods_reader in /usr/local/lib/python3.6/dist-packages (0.0.7)\n",
      "Requirement already satisfied: ezodf in /usr/local/lib/python3.6/dist-packages (from pandas_ods_reader) (0.3.2)\n",
      "Requirement already satisfied: pandas in /usr/local/lib/python3.6/dist-packages (from pandas_ods_reader) (0.24.2)\n",
      "Requirement already satisfied: lxml in /usr/local/lib/python3.6/dist-packages (from pandas_ods_reader) (4.2.6)\n",
      "Requirement already satisfied: numpy>=1.12.0 in /usr/local/lib/python3.6/dist-packages (from pandas->pandas_ods_reader) (1.16.4)\n",
      "Requirement already satisfied: python-dateutil>=2.5.0 in /usr/local/lib/python3.6/dist-packages (from pandas->pandas_ods_reader) (2.5.3)\n",
      "Requirement already satisfied: pytz>=2011k in /usr/local/lib/python3.6/dist-packages (from pandas->pandas_ods_reader) (2018.9)\n",
      "Requirement already satisfied: six>=1.5 in /usr/local/lib/python3.6/dist-packages (from python-dateutil>=2.5.0->pandas->pandas_ods_reader) (1.12.0)\n"
     ]
    }
   ],
   "source": [
    "!pip3 install pandas_ods_reader\n",
    "from pandas_ods_reader import read_ods"
   ]
  },
  {
   "cell_type": "code",
   "execution_count": 0,
   "metadata": {
    "colab": {},
    "colab_type": "code",
    "id": "CFfW16E-wrKA"
   },
   "outputs": [],
   "source": [
    "data = read_ods(\"hi_3500.ods\",1, headers=False)"
   ]
  },
  {
   "cell_type": "code",
   "execution_count": 271,
   "metadata": {
    "colab": {
     "base_uri": "https://localhost:8080/",
     "height": 108
    },
    "colab_type": "code",
    "id": "lSSBs4fEdMjg",
    "outputId": "99a2e54b-7107-4f08-85d1-6b81b14a4d59"
   },
   "outputs": [
    {
     "data": {
      "text/html": [
       "<div>\n",
       "<style scoped>\n",
       "    .dataframe tbody tr th:only-of-type {\n",
       "        vertical-align: middle;\n",
       "    }\n",
       "\n",
       "    .dataframe tbody tr th {\n",
       "        vertical-align: top;\n",
       "    }\n",
       "\n",
       "    .dataframe thead th {\n",
       "        text-align: right;\n",
       "    }\n",
       "</style>\n",
       "<table border=\"1\" class=\"dataframe\">\n",
       "  <thead>\n",
       "    <tr style=\"text-align: right;\">\n",
       "      <th></th>\n",
       "      <th>column_0</th>\n",
       "      <th>column_1</th>\n",
       "    </tr>\n",
       "  </thead>\n",
       "  <tbody>\n",
       "    <tr>\n",
       "      <th>0</th>\n",
       "      <td>लोग वतन तक खा जाते हैं इसका इसे यकीन नहींमान ज...</td>\n",
       "      <td>negative</td>\n",
       "    </tr>\n",
       "    <tr>\n",
       "      <th>1</th>\n",
       "      <td>गुमनाम है वतन पर मिटने वाले लोग आतन्कवादियों स...</td>\n",
       "      <td>negative</td>\n",
       "    </tr>\n",
       "  </tbody>\n",
       "</table>\n",
       "</div>"
      ],
      "text/plain": [
       "                                            column_0  column_1\n",
       "0  लोग वतन तक खा जाते हैं इसका इसे यकीन नहींमान ज...  negative\n",
       "1  गुमनाम है वतन पर मिटने वाले लोग आतन्कवादियों स...  negative"
      ]
     },
     "execution_count": 271,
     "metadata": {
      "tags": []
     },
     "output_type": "execute_result"
    }
   ],
   "source": [
    "data.head(2)"
   ]
  },
  {
   "cell_type": "code",
   "execution_count": 273,
   "metadata": {
    "colab": {
     "base_uri": "https://localhost:8080/",
     "height": 1907
    },
    "colab_type": "code",
    "id": "mfmDbLU-dwPV",
    "outputId": "3c7a95b0-914b-4d30-93aa-de2fc984566c"
   },
   "outputs": [
    {
     "data": {
      "text/html": [
       "<div>\n",
       "<style scoped>\n",
       "    .dataframe tbody tr th:only-of-type {\n",
       "        vertical-align: middle;\n",
       "    }\n",
       "\n",
       "    .dataframe tbody tr th {\n",
       "        vertical-align: top;\n",
       "    }\n",
       "\n",
       "    .dataframe thead th {\n",
       "        text-align: right;\n",
       "    }\n",
       "</style>\n",
       "<table border=\"1\" class=\"dataframe\">\n",
       "  <thead>\n",
       "    <tr style=\"text-align: right;\">\n",
       "      <th></th>\n",
       "      <th>column_0</th>\n",
       "      <th>column_1</th>\n",
       "    </tr>\n",
       "  </thead>\n",
       "  <tbody>\n",
       "    <tr>\n",
       "      <th>3614</th>\n",
       "      <td>उन्‍होंने एक छोर संभालते हुए तेजतर्रार पारी खे...</td>\n",
       "      <td>positive</td>\n",
       "    </tr>\n",
       "    <tr>\n",
       "      <th>2405</th>\n",
       "      <td>RT @itsparvezsagar: शाहदरा बार एसोसिएशन के अध्...</td>\n",
       "      <td>neutral</td>\n",
       "    </tr>\n",
       "    <tr>\n",
       "      <th>8173</th>\n",
       "      <td>RT @aajtak: क्या राहुल गांधी दे सकते हैं मोदी ...</td>\n",
       "      <td>neutral</td>\n",
       "    </tr>\n",
       "    <tr>\n",
       "      <th>4319</th>\n",
       "      <td>डुमिनी ही एकमात्र ऐसे बल्लेबाज नजर आ रहे हैं ज...</td>\n",
       "      <td>negative</td>\n",
       "    </tr>\n",
       "    <tr>\n",
       "      <th>5322</th>\n",
       "      <td>इस चुनाव में बीजेपी ने मोदी की ब्रांडिंग करने ...</td>\n",
       "      <td>positive</td>\n",
       "    </tr>\n",
       "    <tr>\n",
       "      <th>5671</th>\n",
       "      <td>हर साल कुछ नया लाकर वे सबको चकित कर देते हैं इ...</td>\n",
       "      <td>positive</td>\n",
       "    </tr>\n",
       "    <tr>\n",
       "      <th>6680</th>\n",
       "      <td>सरकार अब तक ज्यादा लिए गए पैसों में से महज 40 ...</td>\n",
       "      <td>negative</td>\n",
       "    </tr>\n",
       "    <tr>\n",
       "      <th>4359</th>\n",
       "      <td>तीन दिन की तपिश से राहत मिली है लेकिन अब पारा ...</td>\n",
       "      <td>negative</td>\n",
       "    </tr>\n",
       "    <tr>\n",
       "      <th>3148</th>\n",
       "      <td>आज से पितर पक्ष शुरू हो रहा है अपने पूर्वजो के...</td>\n",
       "      <td>negative</td>\n",
       "    </tr>\n",
       "    <tr>\n",
       "      <th>1051</th>\n",
       "      <td>@KumarKunalmedia सर, नफ़रत की दवा सिर्फ मोहब्ब...</td>\n",
       "      <td>positive</td>\n",
       "    </tr>\n",
       "    <tr>\n",
       "      <th>1921</th>\n",
       "      <td>उनके एक्‍सप्रेशन संतुलित और किरदार के मिजाज मे...</td>\n",
       "      <td>positive</td>\n",
       "    </tr>\n",
       "    <tr>\n",
       "      <th>2521</th>\n",
       "      <td>RT @aajtak: गाजियाबाद में 14 साल की एक छात्रा ...</td>\n",
       "      <td>neutral</td>\n",
       "    </tr>\n",
       "    <tr>\n",
       "      <th>5879</th>\n",
       "      <td>यह जिम्मेदारी पाने वाले भाग्यवान हैं कि उन्हे ...</td>\n",
       "      <td>positive</td>\n",
       "    </tr>\n",
       "    <tr>\n",
       "      <th>4247</th>\n",
       "      <td>यहां मेडिकल के लिए डॉक्टरों द्वारा की गई लापरव...</td>\n",
       "      <td>negative</td>\n",
       "    </tr>\n",
       "    <tr>\n",
       "      <th>8978</th>\n",
       "      <td>RT @aajtak: पीएम की सबसे बड़ी शिव साधना ! #MoJ...</td>\n",
       "      <td>neutral</td>\n",
       "    </tr>\n",
       "    <tr>\n",
       "      <th>23</th>\n",
       "      <td>जम्मू-कश्मीर: भूस्खलन होने की वजह से 7 लोगो की...</td>\n",
       "      <td>negative</td>\n",
       "    </tr>\n",
       "    <tr>\n",
       "      <th>4687</th>\n",
       "      <td>ज्वाला का अगला मिशन रियो ओलिंपिक 2016 में मेडल...</td>\n",
       "      <td>positive</td>\n",
       "    </tr>\n",
       "    <tr>\n",
       "      <th>760</th>\n",
       "      <td>RT @k_vikrant_s: @aajtak @OfficeOfRG @INCIndia...</td>\n",
       "      <td>positive</td>\n",
       "    </tr>\n",
       "    <tr>\n",
       "      <th>1123</th>\n",
       "      <td>EXCLUSIVE: दिल्ली के नॉर्थ MCD कर्मचारियों की ...</td>\n",
       "      <td>positive</td>\n",
       "    </tr>\n",
       "    <tr>\n",
       "      <th>7809</th>\n",
       "      <td>RT @aajtak: #HallaBol में बोले  @yogrishiramde...</td>\n",
       "      <td>neutral</td>\n",
       "    </tr>\n",
       "    <tr>\n",
       "      <th>5006</th>\n",
       "      <td>यह मल्टीपल डिवाइस में परिवर्तित होने की अनुमति...</td>\n",
       "      <td>positive</td>\n",
       "    </tr>\n",
       "    <tr>\n",
       "      <th>2588</th>\n",
       "      <td>नजीब की माँ को सड़क पर घसीटेंगे,मगर सवाल पूछने...</td>\n",
       "      <td>neutral</td>\n",
       "    </tr>\n",
       "    <tr>\n",
       "      <th>8646</th>\n",
       "      <td>RT @aajtak: #HallaBol \\nभाजपा पर लगे आरोपों पर...</td>\n",
       "      <td>neutral</td>\n",
       "    </tr>\n",
       "    <tr>\n",
       "      <th>4323</th>\n",
       "      <td>क्षेत्र के अधिकांश कृषक सहकारी संस्थाओं के माध...</td>\n",
       "      <td>negative</td>\n",
       "    </tr>\n",
       "    <tr>\n",
       "      <th>18</th>\n",
       "      <td>क़सम से युपीए 3 आई तो मै भी कांग्रेसी बन जांऊग...</td>\n",
       "      <td>negative</td>\n",
       "    </tr>\n",
       "    <tr>\n",
       "      <th>597</th>\n",
       "      <td>Are wah @JamwalNidhi badhai ho..\\nAdmire ur ga...</td>\n",
       "      <td>positive</td>\n",
       "    </tr>\n",
       "    <tr>\n",
       "      <th>3484</th>\n",
       "      <td>RT @aajtak: दिल्ली पुलिस की स्पेशल सेल द्वारा ...</td>\n",
       "      <td>neutral</td>\n",
       "    </tr>\n",
       "    <tr>\n",
       "      <th>2539</th>\n",
       "      <td>यही वो हाई राइज बिल्डिंग है जिसके 10 फ्लोर से ...</td>\n",
       "      <td>neutral</td>\n",
       "    </tr>\n",
       "    <tr>\n",
       "      <th>9059</th>\n",
       "      <td>RT @aajtak: एक्सक्लूसिव\\nपेशावर में हुए आतंकी ...</td>\n",
       "      <td>neutral</td>\n",
       "    </tr>\n",
       "    <tr>\n",
       "      <th>8203</th>\n",
       "      <td>RT @aajtak: टेलीविजन इतिहास में पहली बार #Hall...</td>\n",
       "      <td>neutral</td>\n",
       "    </tr>\n",
       "    <tr>\n",
       "      <th>...</th>\n",
       "      <td>...</td>\n",
       "      <td>...</td>\n",
       "    </tr>\n",
       "    <tr>\n",
       "      <th>5526</th>\n",
       "      <td>मेरे लिए क्वॉलिटी ज्यादा इंपॉर्टेंट है, क्वॉन्...</td>\n",
       "      <td>positive</td>\n",
       "    </tr>\n",
       "    <tr>\n",
       "      <th>1803</th>\n",
       "      <td>रितेश शाह राजा मेनन और सुरेश नायर ने बहुत ही ख...</td>\n",
       "      <td>positive</td>\n",
       "    </tr>\n",
       "    <tr>\n",
       "      <th>6397</th>\n",
       "      <td>इस दौरान वे जहां मामूली रूप से झुलस गए, वहीं श...</td>\n",
       "      <td>negative</td>\n",
       "    </tr>\n",
       "    <tr>\n",
       "      <th>2832</th>\n",
       "      <td>RT @aajtak: लश्कर, हिजबुल और जैश में छिड़ी आपस...</td>\n",
       "      <td>neutral</td>\n",
       "    </tr>\n",
       "    <tr>\n",
       "      <th>7341</th>\n",
       "      <td>यदि मैं ये फिल्में करने के बाद बरफी करती तब भी...</td>\n",
       "      <td>negative</td>\n",
       "    </tr>\n",
       "    <tr>\n",
       "      <th>5200</th>\n",
       "      <td>कंपनी के मुताबिक बीते कुछ महीनों के दौरान उसकी...</td>\n",
       "      <td>positive</td>\n",
       "    </tr>\n",
       "    <tr>\n",
       "      <th>3006</th>\n",
       "      <td>Break tomorrow.योग दिवस पर सरकार का मेगा प्लान...</td>\n",
       "      <td>neutral</td>\n",
       "    </tr>\n",
       "    <tr>\n",
       "      <th>5998</th>\n",
       "      <td>इस साल कंपनी की बिक्री में बहुत अधिक वृद्धि हु...</td>\n",
       "      <td>positive</td>\n",
       "    </tr>\n",
       "    <tr>\n",
       "      <th>6708</th>\n",
       "      <td>यूपीए का पूरा कार्यकाल दागदार |</td>\n",
       "      <td>negative</td>\n",
       "    </tr>\n",
       "    <tr>\n",
       "      <th>2858</th>\n",
       "      <td>माओवादियों की ताकत घटती जा रही है..बस्तर उनका ...</td>\n",
       "      <td>neutral</td>\n",
       "    </tr>\n",
       "    <tr>\n",
       "      <th>2483</th>\n",
       "      <td>RT @rishabh24jain: Hanuman ji ki photo pr thuk...</td>\n",
       "      <td>neutral</td>\n",
       "    </tr>\n",
       "    <tr>\n",
       "      <th>1561</th>\n",
       "      <td>शिक्षा से ही होगा समाज व देश का विकास: सरदारशह...</td>\n",
       "      <td>positive</td>\n",
       "    </tr>\n",
       "    <tr>\n",
       "      <th>8926</th>\n",
       "      <td>RT @aajtak: #Mojo, सबसे बड़ी अदालत में भारत की...</td>\n",
       "      <td>neutral</td>\n",
       "    </tr>\n",
       "    <tr>\n",
       "      <th>7562</th>\n",
       "      <td>RT @aajtak: #JaiHindConclave\\nपुलवामा हमले के ...</td>\n",
       "      <td>neutral</td>\n",
       "    </tr>\n",
       "    <tr>\n",
       "      <th>7730</th>\n",
       "      <td>RT @aajtak: पत्नी अमृता फडणवीस की सेल्फी पर पू...</td>\n",
       "      <td>neutral</td>\n",
       "    </tr>\n",
       "    <tr>\n",
       "      <th>5586</th>\n",
       "      <td>टीम के हर सदस्य को पता होगा कि उससे क्या अपेक्...</td>\n",
       "      <td>positive</td>\n",
       "    </tr>\n",
       "    <tr>\n",
       "      <th>3902</th>\n",
       "      <td>सलाहकार फर्म को जो जिम्मेदारी दी जाएगी वह इस ब...</td>\n",
       "      <td>positive</td>\n",
       "    </tr>\n",
       "    <tr>\n",
       "      <th>4036</th>\n",
       "      <td>इस ऑफर के तहत आंशिक कैंसिलेशन नॉर्मल कैंसिलेशन...</td>\n",
       "      <td>positive</td>\n",
       "    </tr>\n",
       "    <tr>\n",
       "      <th>6456</th>\n",
       "      <td>हाल ही में टाइगर की फिल्म और ट्रेलर को लेकर ट्...</td>\n",
       "      <td>negative</td>\n",
       "    </tr>\n",
       "    <tr>\n",
       "      <th>5606</th>\n",
       "      <td>भारत में इंटरनेट का इस्तेमाल बहुत तेजी से बढ़ ...</td>\n",
       "      <td>positive</td>\n",
       "    </tr>\n",
       "    <tr>\n",
       "      <th>353</th>\n",
       "      <td>अजीब तरह के लोग रहते हैं इस देश में… जिन्हें ल...</td>\n",
       "      <td>negative</td>\n",
       "    </tr>\n",
       "    <tr>\n",
       "      <th>8074</th>\n",
       "      <td>RT @aajtak: 'कांग्रेस मुक्त' तो सियासत शुद्ध.....</td>\n",
       "      <td>neutral</td>\n",
       "    </tr>\n",
       "    <tr>\n",
       "      <th>7842</th>\n",
       "      <td>RT @aajtak: .@sambitswaraj ने खोला राहुल गांधी...</td>\n",
       "      <td>neutral</td>\n",
       "    </tr>\n",
       "    <tr>\n",
       "      <th>6154</th>\n",
       "      <td>कुछ फिल्मों की कहानियां वे लिख चुके हैं, ये बा...</td>\n",
       "      <td>negative</td>\n",
       "    </tr>\n",
       "    <tr>\n",
       "      <th>3312</th>\n",
       "      <td>RT @newstakofficial: जब गुजरात के सीएम रुपानी ...</td>\n",
       "      <td>positive</td>\n",
       "    </tr>\n",
       "    <tr>\n",
       "      <th>6733</th>\n",
       "      <td>उन्होंने कहा कि अगर बकाये का भुगतान नहीं किया ...</td>\n",
       "      <td>negative</td>\n",
       "    </tr>\n",
       "    <tr>\n",
       "      <th>4119</th>\n",
       "      <td>शहर के बस स्टेंड से लेकर परासिया मार्ग तक ऑटो ...</td>\n",
       "      <td>negative</td>\n",
       "    </tr>\n",
       "    <tr>\n",
       "      <th>8042</th>\n",
       "      <td>दिन का सपना पूरा हुआ । बेटा CM हुआ । https://t...</td>\n",
       "      <td>neutral</td>\n",
       "    </tr>\n",
       "    <tr>\n",
       "      <th>5984</th>\n",
       "      <td>भारत एक विकासशील देश है</td>\n",
       "      <td>positive</td>\n",
       "    </tr>\n",
       "    <tr>\n",
       "      <th>708</th>\n",
       "      <td>RT @MohammadKaif: संकटो से घिरी हुई, पर हार नह...</td>\n",
       "      <td>positive</td>\n",
       "    </tr>\n",
       "  </tbody>\n",
       "</table>\n",
       "<p>4999 rows × 2 columns</p>\n",
       "</div>"
      ],
      "text/plain": [
       "                                               column_0  column_1\n",
       "3614  उन्‍होंने एक छोर संभालते हुए तेजतर्रार पारी खे...  positive\n",
       "2405  RT @itsparvezsagar: शाहदरा बार एसोसिएशन के अध्...   neutral\n",
       "8173  RT @aajtak: क्या राहुल गांधी दे सकते हैं मोदी ...   neutral\n",
       "4319  डुमिनी ही एकमात्र ऐसे बल्लेबाज नजर आ रहे हैं ज...  negative\n",
       "5322  इस चुनाव में बीजेपी ने मोदी की ब्रांडिंग करने ...  positive\n",
       "5671  हर साल कुछ नया लाकर वे सबको चकित कर देते हैं इ...  positive\n",
       "6680  सरकार अब तक ज्यादा लिए गए पैसों में से महज 40 ...  negative\n",
       "4359  तीन दिन की तपिश से राहत मिली है लेकिन अब पारा ...  negative\n",
       "3148  आज से पितर पक्ष शुरू हो रहा है अपने पूर्वजो के...  negative\n",
       "1051  @KumarKunalmedia सर, नफ़रत की दवा सिर्फ मोहब्ब...  positive\n",
       "1921  उनके एक्‍सप्रेशन संतुलित और किरदार के मिजाज मे...  positive\n",
       "2521  RT @aajtak: गाजियाबाद में 14 साल की एक छात्रा ...   neutral\n",
       "5879  यह जिम्मेदारी पाने वाले भाग्यवान हैं कि उन्हे ...  positive\n",
       "4247  यहां मेडिकल के लिए डॉक्टरों द्वारा की गई लापरव...  negative\n",
       "8978  RT @aajtak: पीएम की सबसे बड़ी शिव साधना ! #MoJ...   neutral\n",
       "23    जम्मू-कश्मीर: भूस्खलन होने की वजह से 7 लोगो की...  negative\n",
       "4687  ज्वाला का अगला मिशन रियो ओलिंपिक 2016 में मेडल...  positive\n",
       "760   RT @k_vikrant_s: @aajtak @OfficeOfRG @INCIndia...  positive\n",
       "1123  EXCLUSIVE: दिल्ली के नॉर्थ MCD कर्मचारियों की ...  positive\n",
       "7809  RT @aajtak: #HallaBol में बोले  @yogrishiramde...   neutral\n",
       "5006  यह मल्टीपल डिवाइस में परिवर्तित होने की अनुमति...  positive\n",
       "2588  नजीब की माँ को सड़क पर घसीटेंगे,मगर सवाल पूछने...   neutral\n",
       "8646  RT @aajtak: #HallaBol \\nभाजपा पर लगे आरोपों पर...   neutral\n",
       "4323  क्षेत्र के अधिकांश कृषक सहकारी संस्थाओं के माध...  negative\n",
       "18    क़सम से युपीए 3 आई तो मै भी कांग्रेसी बन जांऊग...  negative\n",
       "597   Are wah @JamwalNidhi badhai ho..\\nAdmire ur ga...  positive\n",
       "3484  RT @aajtak: दिल्ली पुलिस की स्पेशल सेल द्वारा ...   neutral\n",
       "2539  यही वो हाई राइज बिल्डिंग है जिसके 10 फ्लोर से ...   neutral\n",
       "9059  RT @aajtak: एक्सक्लूसिव\\nपेशावर में हुए आतंकी ...   neutral\n",
       "8203  RT @aajtak: टेलीविजन इतिहास में पहली बार #Hall...   neutral\n",
       "...                                                 ...       ...\n",
       "5526  मेरे लिए क्वॉलिटी ज्यादा इंपॉर्टेंट है, क्वॉन्...  positive\n",
       "1803  रितेश शाह राजा मेनन और सुरेश नायर ने बहुत ही ख...  positive\n",
       "6397  इस दौरान वे जहां मामूली रूप से झुलस गए, वहीं श...  negative\n",
       "2832  RT @aajtak: लश्कर, हिजबुल और जैश में छिड़ी आपस...   neutral\n",
       "7341  यदि मैं ये फिल्में करने के बाद बरफी करती तब भी...  negative\n",
       "5200  कंपनी के मुताबिक बीते कुछ महीनों के दौरान उसकी...  positive\n",
       "3006  Break tomorrow.योग दिवस पर सरकार का मेगा प्लान...   neutral\n",
       "5998  इस साल कंपनी की बिक्री में बहुत अधिक वृद्धि हु...  positive\n",
       "6708                    यूपीए का पूरा कार्यकाल दागदार |  negative\n",
       "2858  माओवादियों की ताकत घटती जा रही है..बस्तर उनका ...   neutral\n",
       "2483  RT @rishabh24jain: Hanuman ji ki photo pr thuk...   neutral\n",
       "1561  शिक्षा से ही होगा समाज व देश का विकास: सरदारशह...  positive\n",
       "8926  RT @aajtak: #Mojo, सबसे बड़ी अदालत में भारत की...   neutral\n",
       "7562  RT @aajtak: #JaiHindConclave\\nपुलवामा हमले के ...   neutral\n",
       "7730  RT @aajtak: पत्नी अमृता फडणवीस की सेल्फी पर पू...   neutral\n",
       "5586  टीम के हर सदस्य को पता होगा कि उससे क्या अपेक्...  positive\n",
       "3902  सलाहकार फर्म को जो जिम्मेदारी दी जाएगी वह इस ब...  positive\n",
       "4036  इस ऑफर के तहत आंशिक कैंसिलेशन नॉर्मल कैंसिलेशन...  positive\n",
       "6456  हाल ही में टाइगर की फिल्म और ट्रेलर को लेकर ट्...  negative\n",
       "5606  भारत में इंटरनेट का इस्तेमाल बहुत तेजी से बढ़ ...  positive\n",
       "353   अजीब तरह के लोग रहते हैं इस देश में… जिन्हें ल...  negative\n",
       "8074  RT @aajtak: 'कांग्रेस मुक्त' तो सियासत शुद्ध.....   neutral\n",
       "7842  RT @aajtak: .@sambitswaraj ने खोला राहुल गांधी...   neutral\n",
       "6154  कुछ फिल्मों की कहानियां वे लिख चुके हैं, ये बा...  negative\n",
       "3312  RT @newstakofficial: जब गुजरात के सीएम रुपानी ...  positive\n",
       "6733  उन्होंने कहा कि अगर बकाये का भुगतान नहीं किया ...  negative\n",
       "4119  शहर के बस स्टेंड से लेकर परासिया मार्ग तक ऑटो ...  negative\n",
       "8042  दिन का सपना पूरा हुआ । बेटा CM हुआ । https://t...   neutral\n",
       "5984                            भारत एक विकासशील देश है  positive\n",
       "708   RT @MohammadKaif: संकटो से घिरी हुई, पर हार नह...  positive\n",
       "\n",
       "[4999 rows x 2 columns]"
      ]
     },
     "execution_count": 273,
     "metadata": {
      "tags": []
     },
     "output_type": "execute_result"
    }
   ],
   "source": [
    "table = data.copy().sample(9077, random_state=0,replace=False)\n",
    "table = table[['column_0', 'column_1']]\n",
    "table.dropna(inplace=True)\n",
    "table[1:5000]"
   ]
  },
  {
   "cell_type": "code",
   "execution_count": 0,
   "metadata": {
    "colab": {},
    "colab_type": "code",
    "id": "TXuHvhitixXZ"
   },
   "outputs": [],
   "source": [
    "data_lm = (TextList.from_df(table, cols='column_0')\n",
    " .split_by_rand_pct(0.1)\n",
    " .label_for_lm()\n",
    " .databunch())"
   ]
  },
  {
   "cell_type": "code",
   "execution_count": 0,
   "metadata": {
    "colab": {},
    "colab_type": "code",
    "id": "08iSnfJZjI_q"
   },
   "outputs": [],
   "source": [
    "data_clas = (TextList.from_df(table, cols='column_0', vocab=data_lm.vocab)\n",
    " .split_by_rand_pct(0.2)\n",
    " .label_from_df('column_1')\n",
    " .databunch())"
   ]
  },
  {
   "cell_type": "code",
   "execution_count": 276,
   "metadata": {
    "colab": {
     "base_uri": "https://localhost:8080/",
     "height": 95
    },
    "colab_type": "code",
    "id": "1D9vybnbjkJD",
    "outputId": "542fbb1a-5e3f-4c9a-f4b6-749b6546bcdf"
   },
   "outputs": [
    {
     "data": {
      "text/html": [
       "<table border=\"1\" class=\"dataframe\">\n",
       "  <thead>\n",
       "    <tr style=\"text-align: right;\">\n",
       "      <th>text</th>\n",
       "      <th>target</th>\n",
       "    </tr>\n",
       "  </thead>\n",
       "  <tbody>\n",
       "    <tr>\n",
       "      <td>xxbos xxup rt @theworldindex : xxmaj world most polluted cities 2018 : \\n \\n  1 . 🇮 🇳 xxmaj gurugram \\n  2 . 🇮 🇳 xxmaj ghaziabad \\n  3 . 🇵 🇰 xxmaj faisalabad \\n  4 . 🇮 🇳 xxmaj faridabad \\n  5 . 🇮 🇳 xxmaj bhiwadi \\n  6 . 🇮 🇳 xxmaj noida \\n  7 . …</td>\n",
       "      <td>negative</td>\n",
       "    </tr>\n",
       "  </tbody>\n",
       "</table>"
      ],
      "text/plain": [
       "<IPython.core.display.HTML object>"
      ]
     },
     "metadata": {
      "tags": []
     },
     "output_type": "display_data"
    }
   ],
   "source": [
    "data_clas.show_batch(1)"
   ]
  },
  {
   "cell_type": "code",
   "execution_count": 277,
   "metadata": {
    "colab": {
     "base_uri": "https://localhost:8080/",
     "height": 143
    },
    "colab_type": "code",
    "id": "Rdx7-w54jtf4",
    "outputId": "597aeea1-c802-4e77-c29a-6575bc035bc4"
   },
   "outputs": [
    {
     "data": {
      "text/html": [
       "<table border=\"1\" class=\"dataframe\">\n",
       "  <thead>\n",
       "    <tr style=\"text-align: right;\">\n",
       "      <th>idx</th>\n",
       "      <th>text</th>\n",
       "    </tr>\n",
       "  </thead>\n",
       "  <tbody>\n",
       "    <tr>\n",
       "      <td>0</td>\n",
       "      <td>ज्यादा लिए गए पैसों में से महज 40 करोड़ रुपये की ही वसूली कर पाई है । xxbos तीन दिन की xxunk से राहत मिली है लेकिन अब पारा फिर चढ़ने लगा है । xxbos आज से xxunk पक्ष शुरू हो रहा है अपने xxunk के नाम से जरूर दान करे और कोई भी शुभ काम या xxunk न xxunk xxunk के लिए पूजा पाठ करे # xxup xxunk xxbos</td>\n",
       "    </tr>\n",
       "    <tr>\n",
       "      <td>1</td>\n",
       "      <td>का विरोध क्यों कर रही हैं ? देखिए @asadowaisi की xxunk \\n  # hallbol \\n  लाईव https : / / t.co / foz5qpkk43 https : / / t.c … xxbos xxup rt @newstakofficial : फटाफट खबरों के लिए फॉलो करें @newstakofficial । सुबह xxunk बजे का # xxup xxunk बुलेटिन , 4 मार्च । @newstakofficial … xxbos टमाटर की अपेक्षा xxunk xxunk , xxunk , xxunk या सब्जी</td>\n",
       "    </tr>\n",
       "  </tbody>\n",
       "</table>"
      ],
      "text/plain": [
       "<IPython.core.display.HTML object>"
      ]
     },
     "metadata": {
      "tags": []
     },
     "output_type": "display_data"
    }
   ],
   "source": [
    "data_lm.show_batch(2)"
   ]
  },
  {
   "cell_type": "code",
   "execution_count": 278,
   "metadata": {
    "colab": {
     "base_uri": "https://localhost:8080/",
     "height": 35
    },
    "colab_type": "code",
    "id": "wBWmbeVoj1q0",
    "outputId": "93734edf-270e-4c78-bd1a-228697984b36"
   },
   "outputs": [
    {
     "data": {
      "text/plain": [
       "['xxunk', 'xxpad', 'xxbos']"
      ]
     },
     "execution_count": 278,
     "metadata": {
      "tags": []
     },
     "output_type": "execute_result"
    }
   ],
   "source": [
    "data_lm.save('data_lm.pkl')\n",
    "data_lm.vocab.itos[:3]"
   ]
  },
  {
   "cell_type": "code",
   "execution_count": 0,
   "metadata": {
    "colab": {},
    "colab_type": "code",
    "id": "FGjOXLHflKcb"
   },
   "outputs": [],
   "source": [
    "learn = language_model_learner(data_lm, AWD_LSTM, pretrained=\"models/third_hi_lm.pth\", drop_mult=0.5)"
   ]
  },
  {
   "cell_type": "code",
   "execution_count": 280,
   "metadata": {
    "colab": {
     "base_uri": "https://localhost:8080/",
     "height": 302
    },
    "colab_type": "code",
    "id": "w6uk9Lgulb7J",
    "outputId": "4139f08c-2c7d-4f75-edfb-bdc800631ebc"
   },
   "outputs": [
    {
     "data": {
      "text/html": [],
      "text/plain": [
       "<IPython.core.display.HTML object>"
      ]
     },
     "metadata": {
      "tags": []
     },
     "output_type": "display_data"
    },
    {
     "name": "stdout",
     "output_type": "stream",
     "text": [
      "LR Finder is complete, type {learner_name}.recorder.plot() to see the graph.\n"
     ]
    },
    {
     "data": {
      "image/png": "[encoded data removed]",
      "text/plain": [
       "<Figure size 432x288 with 1 Axes>"
      ]
     },
     "metadata": {
      "tags": []
     },
     "output_type": "display_data"
    }
   ],
   "source": [
    "learn.lr_find()\n",
    "learn.recorder.plot()"
   ]
  },
  {
   "cell_type": "code",
   "execution_count": 281,
   "metadata": {
    "colab": {
     "base_uri": "https://localhost:8080/",
     "height": 78
    },
    "colab_type": "code",
    "id": "pzxdQGZIlgvS",
    "outputId": "49e5eead-c8e6-4734-fa23-5e03100fad8c"
   },
   "outputs": [
    {
     "data": {
      "text/html": [
       "<table border=\"1\" class=\"dataframe\">\n",
       "  <thead>\n",
       "    <tr style=\"text-align: left;\">\n",
       "      <th>epoch</th>\n",
       "      <th>train_loss</th>\n",
       "      <th>valid_loss</th>\n",
       "      <th>accuracy</th>\n",
       "      <th>time</th>\n",
       "    </tr>\n",
       "  </thead>\n",
       "  <tbody>\n",
       "    <tr>\n",
       "      <td>0</td>\n",
       "      <td>6.267576</td>\n",
       "      <td>4.776055</td>\n",
       "      <td>0.280179</td>\n",
       "      <td>00:06</td>\n",
       "    </tr>\n",
       "  </tbody>\n",
       "</table>"
      ],
      "text/plain": [
       "<IPython.core.display.HTML object>"
      ]
     },
     "metadata": {
      "tags": []
     },
     "output_type": "display_data"
    }
   ],
   "source": [
    "learn.fit_one_cycle(1, 3e-02, moms=(0.8, 0.7))"
   ]
  },
  {
   "cell_type": "code",
   "execution_count": 282,
   "metadata": {
    "colab": {
     "base_uri": "https://localhost:8080/",
     "height": 302
    },
    "colab_type": "code",
    "id": "ccz_kzHlltME",
    "outputId": "e1e8ada5-3028-4c01-aac0-6c3630752d40"
   },
   "outputs": [
    {
     "data": {
      "text/html": [],
      "text/plain": [
       "<IPython.core.display.HTML object>"
      ]
     },
     "metadata": {
      "tags": []
     },
     "output_type": "display_data"
    },
    {
     "name": "stdout",
     "output_type": "stream",
     "text": [
      "LR Finder is complete, type {learner_name}.recorder.plot() to see the graph.\n"
     ]
    },
    {
     "data": {
      "image/png": "[encoded data removed]",
      "text/plain": [
       "<Figure size 432x288 with 1 Axes>"
      ]
     },
     "metadata": {
      "tags": []
     },
     "output_type": "display_data"
    }
   ],
   "source": [
    "learn.unfreeze()\n",
    "learn.lr_find()\n",
    "learn.recorder.plot(skip_end=15)"
   ]
  },
  {
   "cell_type": "code",
   "execution_count": 283,
   "metadata": {
    "colab": {
     "base_uri": "https://localhost:8080/",
     "height": 498
    },
    "colab_type": "code",
    "id": "S2NW3Ub8mF59",
    "outputId": "8bc7ea88-185d-487a-a2a1-fef3d3729d3a"
   },
   "outputs": [
    {
     "data": {
      "text/html": [
       "<table border=\"1\" class=\"dataframe\">\n",
       "  <thead>\n",
       "    <tr style=\"text-align: left;\">\n",
       "      <th>epoch</th>\n",
       "      <th>train_loss</th>\n",
       "      <th>valid_loss</th>\n",
       "      <th>accuracy</th>\n",
       "      <th>time</th>\n",
       "    </tr>\n",
       "  </thead>\n",
       "  <tbody>\n",
       "    <tr>\n",
       "      <td>0</td>\n",
       "      <td>5.021370</td>\n",
       "      <td>4.728021</td>\n",
       "      <td>0.285848</td>\n",
       "      <td>00:08</td>\n",
       "    </tr>\n",
       "    <tr>\n",
       "      <td>1</td>\n",
       "      <td>4.955410</td>\n",
       "      <td>4.623461</td>\n",
       "      <td>0.296161</td>\n",
       "      <td>00:08</td>\n",
       "    </tr>\n",
       "    <tr>\n",
       "      <td>2</td>\n",
       "      <td>4.859788</td>\n",
       "      <td>4.533570</td>\n",
       "      <td>0.303393</td>\n",
       "      <td>00:08</td>\n",
       "    </tr>\n",
       "    <tr>\n",
       "      <td>3</td>\n",
       "      <td>4.769974</td>\n",
       "      <td>4.456697</td>\n",
       "      <td>0.305357</td>\n",
       "      <td>00:08</td>\n",
       "    </tr>\n",
       "    <tr>\n",
       "      <td>4</td>\n",
       "      <td>4.686345</td>\n",
       "      <td>4.390315</td>\n",
       "      <td>0.314955</td>\n",
       "      <td>00:08</td>\n",
       "    </tr>\n",
       "    <tr>\n",
       "      <td>5</td>\n",
       "      <td>4.610135</td>\n",
       "      <td>4.325916</td>\n",
       "      <td>0.321295</td>\n",
       "      <td>00:08</td>\n",
       "    </tr>\n",
       "    <tr>\n",
       "      <td>6</td>\n",
       "      <td>4.537043</td>\n",
       "      <td>4.284279</td>\n",
       "      <td>0.324598</td>\n",
       "      <td>00:08</td>\n",
       "    </tr>\n",
       "    <tr>\n",
       "      <td>7</td>\n",
       "      <td>4.475051</td>\n",
       "      <td>4.245073</td>\n",
       "      <td>0.329643</td>\n",
       "      <td>00:08</td>\n",
       "    </tr>\n",
       "    <tr>\n",
       "      <td>8</td>\n",
       "      <td>4.418847</td>\n",
       "      <td>4.212920</td>\n",
       "      <td>0.331830</td>\n",
       "      <td>00:09</td>\n",
       "    </tr>\n",
       "    <tr>\n",
       "      <td>9</td>\n",
       "      <td>4.374950</td>\n",
       "      <td>4.196318</td>\n",
       "      <td>0.331250</td>\n",
       "      <td>00:09</td>\n",
       "    </tr>\n",
       "    <tr>\n",
       "      <td>10</td>\n",
       "      <td>4.338069</td>\n",
       "      <td>4.182378</td>\n",
       "      <td>0.332857</td>\n",
       "      <td>00:09</td>\n",
       "    </tr>\n",
       "    <tr>\n",
       "      <td>11</td>\n",
       "      <td>4.310486</td>\n",
       "      <td>4.169988</td>\n",
       "      <td>0.332991</td>\n",
       "      <td>00:09</td>\n",
       "    </tr>\n",
       "    <tr>\n",
       "      <td>12</td>\n",
       "      <td>4.302132</td>\n",
       "      <td>4.162985</td>\n",
       "      <td>0.334777</td>\n",
       "      <td>00:09</td>\n",
       "    </tr>\n",
       "    <tr>\n",
       "      <td>13</td>\n",
       "      <td>4.282526</td>\n",
       "      <td>4.166049</td>\n",
       "      <td>0.333705</td>\n",
       "      <td>00:09</td>\n",
       "    </tr>\n",
       "    <tr>\n",
       "      <td>14</td>\n",
       "      <td>4.278352</td>\n",
       "      <td>4.164821</td>\n",
       "      <td>0.334018</td>\n",
       "      <td>00:09</td>\n",
       "    </tr>\n",
       "  </tbody>\n",
       "</table>"
      ],
      "text/plain": [
       "<IPython.core.display.HTML object>"
      ]
     },
     "metadata": {
      "tags": []
     },
     "output_type": "display_data"
    }
   ],
   "source": [
    "learn.fit_one_cycle(15, 3e-04, moms=(0.8, 0.7))"
   ]
  },
  {
   "cell_type": "code",
   "execution_count": 284,
   "metadata": {
    "colab": {
     "base_uri": "https://localhost:8080/",
     "height": 35
    },
    "colab_type": "code",
    "id": "1qK_YFZOmUWQ",
    "outputId": "f27ba06f-866d-48a9-9161-da2633102493"
   },
   "outputs": [
    {
     "name": "stdout",
     "output_type": "stream",
     "text": [
      " में इस जीतना नहीं किया जाएगा कि फिल्म में तरह में पड़ा है । xxbos RT @aajtak : दिल्ली पुलिस में पास 3 साल की इलाके में आजतक पर पुलिस\n"
     ]
    }
   ],
   "source": [
    "TEXT = \" में\"\n",
    "N_WORDS = 30\n",
    "N_SENTENCES = 1\n",
    "\n",
    "print(\"\\n\".join(learn.predict(TEXT, N_WORDS, temperature=0.75) for _ in range(N_SENTENCES)))"
   ]
  },
  {
   "cell_type": "code",
   "execution_count": 0,
   "metadata": {
    "colab": {},
    "colab_type": "code",
    "id": "2fBw9MNopxei"
   },
   "outputs": [],
   "source": [
    "learn.export(\"models/hi_sentence.pkl\")"
   ]
  },
  {
   "cell_type": "code",
   "execution_count": 0,
   "metadata": {
    "colab": {},
    "colab_type": "code",
    "id": "QlB0T24eqTjE"
   },
   "outputs": [],
   "source": [
    "learn.save_encoder('fine_tuned_enc_9077')"
   ]
  },
  {
   "cell_type": "code",
   "execution_count": 0,
   "metadata": {
    "colab": {},
    "colab_type": "code",
    "id": "3GrCoV0Bq14_"
   },
   "outputs": [],
   "source": [
    "learn = text_classifier_learner(data_clas, AWD_LSTM, drop_mult=0.5)\n",
    "learn.load_encoder('fine_tuned_enc_9077')"
   ]
  },
  {
   "cell_type": "code",
   "execution_count": 287,
   "metadata": {
    "colab": {
     "base_uri": "https://localhost:8080/",
     "height": 302
    },
    "colab_type": "code",
    "id": "I_cOtjhbq_VW",
    "outputId": "06045ec6-4468-4696-fd79-099923aa09e5"
   },
   "outputs": [
    {
     "data": {
      "text/html": [],
      "text/plain": [
       "<IPython.core.display.HTML object>"
      ]
     },
     "metadata": {
      "tags": []
     },
     "output_type": "display_data"
    },
    {
     "name": "stdout",
     "output_type": "stream",
     "text": [
      "LR Finder is complete, type {learner_name}.recorder.plot() to see the graph.\n"
     ]
    },
    {
     "data": {
      "image/png": "[encoded data removed]",
      "text/plain": [
       "<Figure size 432x288 with 1 Axes>"
      ]
     },
     "metadata": {
      "tags": []
     },
     "output_type": "display_data"
    }
   ],
   "source": [
    "learn.lr_find()\n",
    "learn.recorder.plot()"
   ]
  },
  {
   "cell_type": "code",
   "execution_count": 288,
   "metadata": {
    "colab": {
     "base_uri": "https://localhost:8080/",
     "height": 78
    },
    "colab_type": "code",
    "id": "o6oytV5crOJx",
    "outputId": "05511ef1-a311-429c-a6a0-99418c6f935d"
   },
   "outputs": [
    {
     "data": {
      "text/html": [
       "<table border=\"1\" class=\"dataframe\">\n",
       "  <thead>\n",
       "    <tr style=\"text-align: left;\">\n",
       "      <th>epoch</th>\n",
       "      <th>train_loss</th>\n",
       "      <th>valid_loss</th>\n",
       "      <th>accuracy</th>\n",
       "      <th>time</th>\n",
       "    </tr>\n",
       "  </thead>\n",
       "  <tbody>\n",
       "    <tr>\n",
       "      <td>0</td>\n",
       "      <td>0.930926</td>\n",
       "      <td>0.723590</td>\n",
       "      <td>0.643526</td>\n",
       "      <td>00:04</td>\n",
       "    </tr>\n",
       "  </tbody>\n",
       "</table>"
      ],
      "text/plain": [
       "<IPython.core.display.HTML object>"
      ]
     },
     "metadata": {
      "tags": []
     },
     "output_type": "display_data"
    }
   ],
   "source": [
    "learn.fit_one_cycle(1, 3e-03, moms=(0.8,0.7))"
   ]
  },
  {
   "cell_type": "code",
   "execution_count": 289,
   "metadata": {
    "colab": {
     "base_uri": "https://localhost:8080/",
     "height": 78
    },
    "colab_type": "code",
    "id": "FcbN99d1rWUj",
    "outputId": "377a24eb-c5e7-48aa-e6ba-b9c91b852571"
   },
   "outputs": [
    {
     "data": {
      "text/html": [
       "<table border=\"1\" class=\"dataframe\">\n",
       "  <thead>\n",
       "    <tr style=\"text-align: left;\">\n",
       "      <th>epoch</th>\n",
       "      <th>train_loss</th>\n",
       "      <th>valid_loss</th>\n",
       "      <th>accuracy</th>\n",
       "      <th>time</th>\n",
       "    </tr>\n",
       "  </thead>\n",
       "  <tbody>\n",
       "    <tr>\n",
       "      <td>0</td>\n",
       "      <td>0.813841</td>\n",
       "      <td>0.671902</td>\n",
       "      <td>0.658953</td>\n",
       "      <td>00:05</td>\n",
       "    </tr>\n",
       "  </tbody>\n",
       "</table>"
      ],
      "text/plain": [
       "<IPython.core.display.HTML object>"
      ]
     },
     "metadata": {
      "tags": []
     },
     "output_type": "display_data"
    }
   ],
   "source": [
    "learn.freeze_to(-2)\n",
    "learn.fit_one_cycle(1, slice(1e-03/(2.6**4),1e-03), moms=(0.8,0.7))"
   ]
  },
  {
   "cell_type": "code",
   "execution_count": 290,
   "metadata": {
    "colab": {
     "base_uri": "https://localhost:8080/",
     "height": 138
    },
    "colab_type": "code",
    "id": "d6nZb4z9rl5t",
    "outputId": "99796a4b-86b1-4364-f6db-5e85bb12c77c"
   },
   "outputs": [
    {
     "data": {
      "text/html": [
       "<table border=\"1\" class=\"dataframe\">\n",
       "  <thead>\n",
       "    <tr style=\"text-align: left;\">\n",
       "      <th>epoch</th>\n",
       "      <th>train_loss</th>\n",
       "      <th>valid_loss</th>\n",
       "      <th>accuracy</th>\n",
       "      <th>time</th>\n",
       "    </tr>\n",
       "  </thead>\n",
       "  <tbody>\n",
       "    <tr>\n",
       "      <td>0</td>\n",
       "      <td>0.853167</td>\n",
       "      <td>0.648381</td>\n",
       "      <td>0.694215</td>\n",
       "      <td>00:07</td>\n",
       "    </tr>\n",
       "    <tr>\n",
       "      <td>1</td>\n",
       "      <td>0.741108</td>\n",
       "      <td>0.580622</td>\n",
       "      <td>0.711295</td>\n",
       "      <td>00:07</td>\n",
       "    </tr>\n",
       "    <tr>\n",
       "      <td>2</td>\n",
       "      <td>0.720004</td>\n",
       "      <td>0.575250</td>\n",
       "      <td>0.708540</td>\n",
       "      <td>00:07</td>\n",
       "    </tr>\n",
       "  </tbody>\n",
       "</table>"
      ],
      "text/plain": [
       "<IPython.core.display.HTML object>"
      ]
     },
     "metadata": {
      "tags": []
     },
     "output_type": "display_data"
    }
   ],
   "source": [
    "learn.freeze_to(-3)\n",
    "learn.fit_one_cycle(3, slice(5e-03/(2.6**4),5e-03), moms=(0.8,0.7))"
   ]
  },
  {
   "cell_type": "code",
   "execution_count": 302,
   "metadata": {
    "colab": {
     "base_uri": "https://localhost:8080/",
     "height": 198
    },
    "colab_type": "code",
    "id": "Wq_L5pbur0ee",
    "outputId": "934ba4e1-e87c-4015-e043-14fa9811805e"
   },
   "outputs": [
    {
     "data": {
      "text/html": [
       "<table border=\"1\" class=\"dataframe\">\n",
       "  <thead>\n",
       "    <tr style=\"text-align: left;\">\n",
       "      <th>epoch</th>\n",
       "      <th>train_loss</th>\n",
       "      <th>valid_loss</th>\n",
       "      <th>accuracy</th>\n",
       "      <th>time</th>\n",
       "    </tr>\n",
       "  </thead>\n",
       "  <tbody>\n",
       "    <tr>\n",
       "      <td>0</td>\n",
       "      <td>0.608293</td>\n",
       "      <td>0.573941</td>\n",
       "      <td>0.720110</td>\n",
       "      <td>00:10</td>\n",
       "    </tr>\n",
       "    <tr>\n",
       "      <td>1</td>\n",
       "      <td>0.695433</td>\n",
       "      <td>0.564656</td>\n",
       "      <td>0.728926</td>\n",
       "      <td>00:08</td>\n",
       "    </tr>\n",
       "    <tr>\n",
       "      <td>2</td>\n",
       "      <td>0.699171</td>\n",
       "      <td>0.570015</td>\n",
       "      <td>0.727824</td>\n",
       "      <td>00:08</td>\n",
       "    </tr>\n",
       "    <tr>\n",
       "      <td>3</td>\n",
       "      <td>0.627100</td>\n",
       "      <td>0.582248</td>\n",
       "      <td>0.731680</td>\n",
       "      <td>00:09</td>\n",
       "    </tr>\n",
       "    <tr>\n",
       "      <td>4</td>\n",
       "      <td>0.623950</td>\n",
       "      <td>0.583798</td>\n",
       "      <td>0.731680</td>\n",
       "      <td>00:09</td>\n",
       "    </tr>\n",
       "  </tbody>\n",
       "</table>"
      ],
      "text/plain": [
       "<IPython.core.display.HTML object>"
      ]
     },
     "metadata": {
      "tags": []
     },
     "output_type": "display_data"
    }
   ],
   "source": [
    "learn.unfreeze()\n",
    "learn.fit_one_cycle(5, slice(5e-04/(2.6**4),5e-04), moms=(0.8,0.7))"
   ]
  },
  {
   "cell_type": "code",
   "execution_count": 311,
   "metadata": {
    "colab": {
     "base_uri": "https://localhost:8080/",
     "height": 198
    },
    "colab_type": "code",
    "id": "ztZ7hXNdLcuV",
    "outputId": "a73cbb78-5e65-467e-f536-54dbd616c35c"
   },
   "outputs": [
    {
     "data": {
      "text/html": [
       "<table border=\"1\" class=\"dataframe\">\n",
       "  <thead>\n",
       "    <tr style=\"text-align: left;\">\n",
       "      <th>epoch</th>\n",
       "      <th>train_loss</th>\n",
       "      <th>valid_loss</th>\n",
       "      <th>accuracy</th>\n",
       "      <th>time</th>\n",
       "    </tr>\n",
       "  </thead>\n",
       "  <tbody>\n",
       "    <tr>\n",
       "      <td>0</td>\n",
       "      <td>0.622325</td>\n",
       "      <td>0.564834</td>\n",
       "      <td>0.728375</td>\n",
       "      <td>00:09</td>\n",
       "    </tr>\n",
       "    <tr>\n",
       "      <td>1</td>\n",
       "      <td>0.619325</td>\n",
       "      <td>0.582253</td>\n",
       "      <td>0.732782</td>\n",
       "      <td>00:09</td>\n",
       "    </tr>\n",
       "    <tr>\n",
       "      <td>2</td>\n",
       "      <td>0.644618</td>\n",
       "      <td>0.568589</td>\n",
       "      <td>0.728926</td>\n",
       "      <td>00:08</td>\n",
       "    </tr>\n",
       "    <tr>\n",
       "      <td>3</td>\n",
       "      <td>0.627140</td>\n",
       "      <td>0.567003</td>\n",
       "      <td>0.734435</td>\n",
       "      <td>00:09</td>\n",
       "    </tr>\n",
       "    <tr>\n",
       "      <td>4</td>\n",
       "      <td>0.561733</td>\n",
       "      <td>0.559429</td>\n",
       "      <td>0.731680</td>\n",
       "      <td>00:10</td>\n",
       "    </tr>\n",
       "  </tbody>\n",
       "</table>"
      ],
      "text/plain": [
       "<IPython.core.display.HTML object>"
      ]
     },
     "metadata": {
      "tags": []
     },
     "output_type": "display_data"
    }
   ],
   "source": [
    "learn.fit_one_cycle(5, slice(5e-04/(2.6**4),5e-04), moms=(0.8,0.7))"
   ]
  },
  {
   "cell_type": "code",
   "execution_count": 0,
   "metadata": {
    "colab": {},
    "colab_type": "code",
    "id": "AfClijhesh0b"
   },
   "outputs": [],
   "source": [
    "learn.export(\"classifier_sentiment_hi_v10.pkl\")"
   ]
  },
  {
   "cell_type": "code",
   "execution_count": 0,
   "metadata": {
    "colab": {
     "base_uri": "https://localhost:8080/",
     "height": 35
    },
    "colab_type": "code",
    "id": "jGO6hKzKtRrK",
    "outputId": "a6f839f0-9ee9-4e28-8636-c15263829d9e"
   },
   "outputs": [
    {
     "data": {
      "text/plain": [
       "(Category positive, tensor(2), tensor([2.6687e-07, 3.2584e-07, 1.0000e+00]))"
      ]
     },
     "execution_count": 52,
     "metadata": {
      "tags": []
     },
     "output_type": "execute_result"
    }
   ],
   "source": [
    "learn.predict(\"आज़तक पर देखिये कितनी स्मार्ट हुई स्मार्ट फेंसिंग Exclusive आज रात 9.30 pm पर @BSF_India\")"
   ]
  },
  {
   "cell_type": "code",
   "execution_count": 0,
   "metadata": {
    "colab": {
     "base_uri": "https://localhost:8080/",
     "height": 35
    },
    "colab_type": "code",
    "id": "8w8yJ_7Btu52",
    "outputId": "0415f5bd-fe52-4150-a6df-e65e9078ed92"
   },
   "outputs": [
    {
     "data": {
      "text/plain": [
       "(Category positive, tensor(2), tensor([3.5505e-06, 2.0953e-06, 9.9999e-01]))"
      ]
     },
     "execution_count": 53,
     "metadata": {
      "tags": []
     },
     "output_type": "execute_result"
    }
   ],
   "source": [
    "learn.predict(\"चीन के सामने भारत के जांबाज़ सूरमाओं की Exclusive रिपोर्ट कोल्ड डेजर्ट के नाम से मशहूर नेलांग वैली से।… https://t.co/7JBdsL6xaE\")"
   ]
  },
  {
   "cell_type": "code",
   "execution_count": 0,
   "metadata": {
    "colab": {
     "base_uri": "https://localhost:8080/",
     "height": 35
    },
    "colab_type": "code",
    "id": "1ZJODAAcuAo0",
    "outputId": "fef49560-7c96-4ace-fa24-bc50b024c5e9"
   },
   "outputs": [
    {
     "data": {
      "text/plain": [
       "(Category neutral, tensor(1), tensor([0.0805, 0.8967, 0.0228]))"
      ]
     },
     "execution_count": 54,
     "metadata": {
      "tags": []
     },
     "output_type": "execute_result"
    }
   ],
   "source": [
    "learn.predict(\"Female IAS officer molestation दिल्लीः साकेत कोर्ट परिसर में महिला IAS अधिकारी से छेड़छाड़ https://t.co/MtZhnAfYiV\")"
   ]
  },
  {
   "cell_type": "code",
   "execution_count": 0,
   "metadata": {
    "colab": {},
    "colab_type": "code",
    "id": "s91kyET2uJF5"
   },
   "outputs": [],
   "source": [
    "from fastai.vision import *"
   ]
  },
  {
   "cell_type": "code",
   "execution_count": 0,
   "metadata": {
    "colab": {},
    "colab_type": "code",
    "id": "6Kiz9ZIxiizw"
   },
   "outputs": [],
   "source": [
    "preds,y,losses = learn.get_preds(with_loss=True)"
   ]
  },
  {
   "cell_type": "code",
   "execution_count": 0,
   "metadata": {
    "colab": {},
    "colab_type": "code",
    "id": "MwewQ0FVisXM"
   },
   "outputs": [],
   "source": [
    "inp = ClassificationInterpretation(learn,preds,y,losses)"
   ]
  },
  {
   "cell_type": "code",
   "execution_count": 314,
   "metadata": {
    "colab": {
     "base_uri": "https://localhost:8080/",
     "height": 311
    },
    "colab_type": "code",
    "id": "mFqZUgT5i46Y",
    "outputId": "d8b3d334-1064-44ba-9d1e-eed6740d25af"
   },
   "outputs": [
    {
     "data": {
      "image/png": "[encoded data removed]",
      "text/plain": [
       "<Figure size 432x288 with 1 Axes>"
      ]
     },
     "metadata": {
      "tags": []
     },
     "output_type": "display_data"
    }
   ],
   "source": [
    "inp.plot_confusion_matrix()"
   ]
  },
  {
   "cell_type": "code",
   "execution_count": 194,
   "metadata": {
    "colab": {
     "base_uri": "https://localhost:8080/",
     "height": 35
    },
    "colab_type": "code",
    "id": "kA0idkJ0i-64",
    "outputId": "d2b41c9f-9edd-48e2-d329-278673a14a97"
   },
   "outputs": [
    {
     "data": {
      "text/plain": [
       "torch.return_types.topk(values=tensor([5.4140]), indices=tensor([102]))"
      ]
     },
     "execution_count": 194,
     "metadata": {
      "tags": []
     },
     "output_type": "execute_result"
    }
   ],
   "source": [
    "inp.top_losses(k=1,largest=True)"
   ]
  },
  {
   "cell_type": "markdown",
   "metadata": {
    "colab_type": "text",
    "id": "k-TBMzz419yX"
   },
   "source": [
    "# **TESTING OF MODEL**"
   ]
  },
  {
   "cell_type": "code",
   "execution_count": 0,
   "metadata": {
    "colab": {},
    "colab_type": "code",
    "id": "BWfo0kyOp96Q"
   },
   "outputs": [],
   "source": [
    "test_pos = read_ods(\"positive.ods\",1, headers=False)"
   ]
  },
  {
   "cell_type": "code",
   "execution_count": 297,
   "metadata": {
    "colab": {
     "base_uri": "https://localhost:8080/",
     "height": 1907
    },
    "colab_type": "code",
    "id": "ZIctQ6DvwftJ",
    "outputId": "d9c803ac-1cc3-4727-ad1a-b7d37a01ef4f"
   },
   "outputs": [
    {
     "data": {
      "text/html": [
       "<div>\n",
       "<style scoped>\n",
       "    .dataframe tbody tr th:only-of-type {\n",
       "        vertical-align: middle;\n",
       "    }\n",
       "\n",
       "    .dataframe tbody tr th {\n",
       "        vertical-align: top;\n",
       "    }\n",
       "\n",
       "    .dataframe thead th {\n",
       "        text-align: right;\n",
       "    }\n",
       "</style>\n",
       "<table border=\"1\" class=\"dataframe\">\n",
       "  <thead>\n",
       "    <tr style=\"text-align: right;\">\n",
       "      <th></th>\n",
       "      <th>column_0</th>\n",
       "      <th>column_1</th>\n",
       "      <th>column_2</th>\n",
       "      <th>column_3</th>\n",
       "      <th>column_4</th>\n",
       "      <th>column_5</th>\n",
       "    </tr>\n",
       "  </thead>\n",
       "  <tbody>\n",
       "    <tr>\n",
       "      <th>0</th>\n",
       "      <td>मुमकिन है कि रिलायंस कैपिटल का शेयर 330 रुपये ...</td>\n",
       "      <td>positive</td>\n",
       "      <td>बुंदेलखंड के किसानों को अबकी बार बड़ी उम्मीदें...</td>\n",
       "      <td>negative</td>\n",
       "      <td>RT @mumbaitak: शिवसेना-बीजेपी गठबंधन में दरार,...</td>\n",
       "      <td>neutral</td>\n",
       "    </tr>\n",
       "    <tr>\n",
       "      <th>1</th>\n",
       "      <td>सितम्बर में इसकी कमिशिनिंग संभावित है।</td>\n",
       "      <td>positive</td>\n",
       "      <td>उन्होंने कहा कि चूंकि पूंजी की जरूरत बहुत बड़ी...</td>\n",
       "      <td>negative</td>\n",
       "      <td>RT @mumbaitak: शिवसेना-बीजेपी गठबंधन में दरार,...</td>\n",
       "      <td>neutral</td>\n",
       "    </tr>\n",
       "    <tr>\n",
       "      <th>2</th>\n",
       "      <td>भारतीय कंपनी ने संभावित डील के बारे में कमेंट ...</td>\n",
       "      <td>positive</td>\n",
       "      <td>पश्चिम बंगाल में शासन द्वारा ऐसी शिकायतें लगात...</td>\n",
       "      <td>negative</td>\n",
       "      <td>RT @mumbaitak: बोरवेल में फंसे 6 साल के मासूम ...</td>\n",
       "      <td>neutral</td>\n",
       "    </tr>\n",
       "    <tr>\n",
       "      <th>3</th>\n",
       "      <td>हम अदालत में लड़ाई लड़ने के अलावा इस मामले को ...</td>\n",
       "      <td>positive</td>\n",
       "      <td>शहर में नेटवर्किंग कारोबार का मकड़जाल लगातार फ...</td>\n",
       "      <td>negative</td>\n",
       "      <td>RT @mumbaitak: बीजेपी-शिवसेना गठबंधन पर उद्धव ...</td>\n",
       "      <td>neutral</td>\n",
       "    </tr>\n",
       "    <tr>\n",
       "      <th>4</th>\n",
       "      <td>असल में कोशिश की जा रही है कि संभावित तौर पर क...</td>\n",
       "      <td>positive</td>\n",
       "      <td>हमें नहीं लगता कि आने वाले दिनों में कीमतों मे...</td>\n",
       "      <td>negative</td>\n",
       "      <td>RT @mumbaitak: ठाणे के कोरम मॉल में घुसा तेंदु...</td>\n",
       "      <td>neutral</td>\n",
       "    </tr>\n",
       "    <tr>\n",
       "      <th>5</th>\n",
       "      <td>पोलार्ड और तारे ने असम्भव को सम्भव कर दिखाया था.</td>\n",
       "      <td>positive</td>\n",
       "      <td>मौसम में लगातार परिवर्तन और नलों से आ रहे गंदा...</td>\n",
       "      <td>negative</td>\n",
       "      <td>RT @mumbaitak: ठाणे के कोरम मॉल में तेंदुआ घुस...</td>\n",
       "      <td>neutral</td>\n",
       "    </tr>\n",
       "    <tr>\n",
       "      <th>6</th>\n",
       "      <td>कॉमरेड धनंजय तिवारी की विशेष रूचि और परिश्रम स...</td>\n",
       "      <td>positive</td>\n",
       "      <td>कुशाल का मेडिकल इश्यू के कारण कुशाल को ये शो छ...</td>\n",
       "      <td>negative</td>\n",
       "      <td>RT @mumbaitak: पुलवामा के शहीदों को श्रद्धांजल...</td>\n",
       "      <td>neutral</td>\n",
       "    </tr>\n",
       "    <tr>\n",
       "      <th>7</th>\n",
       "      <td>क्रिस लिन ने नामुमकिन कैच को अपने गजब के बॉडी ...</td>\n",
       "      <td>positive</td>\n",
       "      <td>एक गोल होने के बाद स्काटलैंड ने भारतीय गोल पर ...</td>\n",
       "      <td>negative</td>\n",
       "      <td>RT @mumbaitak: .@ShivSena -@BJP4India गठबंधन प...</td>\n",
       "      <td>neutral</td>\n",
       "    </tr>\n",
       "    <tr>\n",
       "      <th>8</th>\n",
       "      <td>इससे आपके कंधे ताकतवर बन सकेंगे।</td>\n",
       "      <td>positive</td>\n",
       "      <td>उन्हें धरना देना पड़ा।</td>\n",
       "      <td>negative</td>\n",
       "      <td>RT @aajtak: राम मंदिर पर हम साथ-साथ: उद्धव #Sp...</td>\n",
       "      <td>neutral</td>\n",
       "    </tr>\n",
       "    <tr>\n",
       "      <th>9</th>\n",
       "      <td>वह काफी ताकतवर है और उसके पास विविधता है.</td>\n",
       "      <td>positive</td>\n",
       "      <td>उन्होंने जेपी चौक पर अनिश्चतकालीन धरना आंदोलन ...</td>\n",
       "      <td>negative</td>\n",
       "      <td>@nistula Tyana visarale</td>\n",
       "      <td>neutral</td>\n",
       "    </tr>\n",
       "    <tr>\n",
       "      <th>10</th>\n",
       "      <td>विलेन जितना दमदार और ताकतवर होगा, उतना ही हीरो...</td>\n",
       "      <td>positive</td>\n",
       "      <td>इस बात पर लक्ष्मीनगर की 80 महिलाओं ने शराब भट्...</td>\n",
       "      <td>negative</td>\n",
       "      <td>RT @mumbaitak: खुद की फिल्म पाकिस्तान में रिली...</td>\n",
       "      <td>neutral</td>\n",
       "    </tr>\n",
       "    <tr>\n",
       "      <th>11</th>\n",
       "      <td>लिहाजा इस जीवनदान के बाद मैक्सवेल बल्ले से और ...</td>\n",
       "      <td>positive</td>\n",
       "      <td>इस कारण से किसानों को उनका माल खुले में ही उता...</td>\n",
       "      <td>negative</td>\n",
       "      <td>RT @mumbaitak: CRPF जवान के साथ पुलिस ने की मा...</td>\n",
       "      <td>neutral</td>\n",
       "    </tr>\n",
       "    <tr>\n",
       "      <th>12</th>\n",
       "      <td>उनके ट्विटर में आते ही इस सोशल साइट पर जबरदस्त...</td>\n",
       "      <td>positive</td>\n",
       "      <td>बंगाल को लगातार तीसरी हार का सामना करना पडा और...</td>\n",
       "      <td>negative</td>\n",
       "      <td>RT @mumbaitak: #PulwamaAttack में शहीद जवानों ...</td>\n",
       "      <td>neutral</td>\n",
       "    </tr>\n",
       "    <tr>\n",
       "      <th>13</th>\n",
       "      <td>मोदी के बीसीसीआई से जुड़ते ही उसके रेवेन्यू मे...</td>\n",
       "      <td>positive</td>\n",
       "      <td>पुलिस के लिए सुबूत तलाशना मुश्किल है।</td>\n",
       "      <td>negative</td>\n",
       "      <td>RT @mumbaitak: कपिल शर्मा शो से निकलने के बाद ...</td>\n",
       "      <td>neutral</td>\n",
       "    </tr>\n",
       "    <tr>\n",
       "      <th>14</th>\n",
       "      <td>राजस्थान की जीत में प्रवीण ताम्बे और शेन वॉटसन...</td>\n",
       "      <td>positive</td>\n",
       "      <td>उम्मीदवारों ने हत्या के प्रयास के मुकदमों का श...</td>\n",
       "      <td>negative</td>\n",
       "      <td>RT @mumbaitak: पुलवामा हमले पर क्या बोली महारा...</td>\n",
       "      <td>neutral</td>\n",
       "    </tr>\n",
       "    <tr>\n",
       "      <th>15</th>\n",
       "      <td>मैन आफ द मैच स्मिथ ने कोटला में ऐसी जबरदस्त बल...</td>\n",
       "      <td>positive</td>\n",
       "      <td>परिजनों की तहरीर पर पुलिस ने चार नामजद आरोपियो...</td>\n",
       "      <td>negative</td>\n",
       "      <td>RT @mumbaitak: ‘पाकिस्तान मुर्दाबाद’ \\nयवतमाल ...</td>\n",
       "      <td>neutral</td>\n",
       "    </tr>\n",
       "    <tr>\n",
       "      <th>16</th>\n",
       "      <td>इसमें हीरो हीरोइन दमदार कैमेस्ट्री देखने को मि...</td>\n",
       "      <td>positive</td>\n",
       "      <td>पीलिया संदिग्ध मरीज के खून की जांच में भी वक्त...</td>\n",
       "      <td>negative</td>\n",
       "      <td>RT @mumbaitak: बीजेपी और पीएम मोदी भूल जाएंगे ...</td>\n",
       "      <td>neutral</td>\n",
       "    </tr>\n",
       "    <tr>\n",
       "      <th>17</th>\n",
       "      <td>फिल्म में दमदार भूमिका निभाने के लिए सबसे पहले...</td>\n",
       "      <td>positive</td>\n",
       "      <td>वह उस आदमी का कत्ल कर देती है।</td>\n",
       "      <td>negative</td>\n",
       "      <td>RT @mumbaitak: @PulwamaAttack के विरोध प्रदर्श...</td>\n",
       "      <td>neutral</td>\n",
       "    </tr>\n",
       "    <tr>\n",
       "      <th>18</th>\n",
       "      <td>अभी तक टूर्नामेंट में उनके लिए केवल आरोन फिंच ...</td>\n",
       "      <td>positive</td>\n",
       "      <td>उन्होंने शिवांग का कत्ल कर उसके परिजनों से पैस...</td>\n",
       "      <td>negative</td>\n",
       "      <td>RT @mumbaitak: मातोश्री पहुंचे महाराष्ट्र के म...</td>\n",
       "      <td>neutral</td>\n",
       "    </tr>\n",
       "    <tr>\n",
       "      <th>19</th>\n",
       "      <td>नियम उसे खातों की प्राथमिक जांच के आगे जाने के...</td>\n",
       "      <td>positive</td>\n",
       "      <td>इस दौरान रास्ते में घात लगाए बदमाशों ने उनके प...</td>\n",
       "      <td>negative</td>\n",
       "      <td>@ahir_hansraj on #TerroristAttack \" hissab chu...</td>\n",
       "      <td>neutral</td>\n",
       "    </tr>\n",
       "    <tr>\n",
       "      <th>20</th>\n",
       "      <td>नियमों के मुताबिक सिनेमा मालिक आपको चश्मा लेने...</td>\n",
       "      <td>positive</td>\n",
       "      <td>अब पूरी दुनिया जान गई है कि मोदी झूठों के बादश...</td>\n",
       "      <td>negative</td>\n",
       "      <td>RT @mumbaitak: महाराष्ट्र में गठबंधन पर सस्पें...</td>\n",
       "      <td>neutral</td>\n",
       "    </tr>\n",
       "    <tr>\n",
       "      <th>21</th>\n",
       "      <td>टाटा मोटर्स का उपयोगी वाहन मोवस पेश.</td>\n",
       "      <td>positive</td>\n",
       "      <td>नगर पंचायत परिसर में जमकर हंगामा हुआ था।</td>\n",
       "      <td>negative</td>\n",
       "      <td>RT @divyeshas: मुंबई ब्लास्ट मामले में भारत को...</td>\n",
       "      <td>neutral</td>\n",
       "    </tr>\n",
       "    <tr>\n",
       "      <th>22</th>\n",
       "      <td>सलामी बल्लेबाज मुरलीधरन गौतम ने भी 30 रन की उप...</td>\n",
       "      <td>positive</td>\n",
       "      <td>दोनों कर्मचारियों पर शराब के नशे में धुत होकर ...</td>\n",
       "      <td>negative</td>\n",
       "      <td>RT @mumbaitak: पैराग्लाइडिंग से सावधान!! दक्षि...</td>\n",
       "      <td>neutral</td>\n",
       "    </tr>\n",
       "    <tr>\n",
       "      <th>23</th>\n",
       "      <td>कप्तान धौनी और रवींद्र जडेजा ने भी उपयोगी प्रद...</td>\n",
       "      <td>positive</td>\n",
       "      <td>श्वेता की मां अलका मिश्रा को गंभीर चोट आई है।</td>\n",
       "      <td>negative</td>\n",
       "      <td>RT @mumbaitak: 45 वर्षीय के दक्षिण कोरियाई नाग...</td>\n",
       "      <td>neutral</td>\n",
       "    </tr>\n",
       "    <tr>\n",
       "      <th>24</th>\n",
       "      <td>हालांकि प्रयोगात्मक विज्ञान और फिक्शन के बीच ब...</td>\n",
       "      <td>positive</td>\n",
       "      <td>गडकरी ने झारखंड के क्षेत्रीय दलों पर प्रहार किया।</td>\n",
       "      <td>negative</td>\n",
       "      <td>RT @mumbaitak: प्रकाश आंबेडकर की सभा में एक व्...</td>\n",
       "      <td>neutral</td>\n",
       "    </tr>\n",
       "    <tr>\n",
       "      <th>25</th>\n",
       "      <td>हर रैन बसेरे के पास पानी का टैंकर होना अनिवार्...</td>\n",
       "      <td>positive</td>\n",
       "      <td>भाजपा सिर्फ सत्ता की भूखी है।</td>\n",
       "      <td>negative</td>\n",
       "      <td>RT @mumbaitak: मुंबई में CM निवास के पास लगी आ...</td>\n",
       "      <td>neutral</td>\n",
       "    </tr>\n",
       "    <tr>\n",
       "      <th>26</th>\n",
       "      <td>इस मौके पर राकेश कुमार ने कहा कि पढ़ाई के साथ ...</td>\n",
       "      <td>positive</td>\n",
       "      <td>सोमवार की रात्रि डीजल चोरों की ताक में कुछ साह...</td>\n",
       "      <td>negative</td>\n",
       "      <td>RT @rahulkanwal: फैक्ट चैक: नहीं, यह \"चायवाला\"...</td>\n",
       "      <td>neutral</td>\n",
       "    </tr>\n",
       "    <tr>\n",
       "      <th>27</th>\n",
       "      <td>कांची के पिता वतन की रक्षा करते हुए शहीद हो गए।</td>\n",
       "      <td>positive</td>\n",
       "      <td>यहां भाषण के दौरान लालू ने जब लोगों को डी एरिय...</td>\n",
       "      <td>negative</td>\n",
       "      <td>RT @mumbaitak: अमोल पालेकर विवाद: सरकार के खिल...</td>\n",
       "      <td>neutral</td>\n",
       "    </tr>\n",
       "    <tr>\n",
       "      <th>28</th>\n",
       "      <td>विकसित देशों में ही नहीं बल्कि अपने देश के रोग...</td>\n",
       "      <td>positive</td>\n",
       "      <td>अब बदमाशों के हौसले इतने बुलंद हो गए हैं कि वह...</td>\n",
       "      <td>negative</td>\n",
       "      <td>@lalitncr @mumbaitak @aajtak @mustafashk Kyon ...</td>\n",
       "      <td>neutral</td>\n",
       "    </tr>\n",
       "    <tr>\n",
       "      <th>29</th>\n",
       "      <td>इस सुविधा के तहत पीएफ निकासी सहित अन्य भुगतान ...</td>\n",
       "      <td>positive</td>\n",
       "      <td>छह के खिलाफ जुआ एक्ट में कार्रवाई की गई।</td>\n",
       "      <td>negative</td>\n",
       "      <td>Is this #TwitterDefiesIndia started because , ...</td>\n",
       "      <td>neutral</td>\n",
       "    </tr>\n",
       "    <tr>\n",
       "      <th>...</th>\n",
       "      <td>...</td>\n",
       "      <td>...</td>\n",
       "      <td>...</td>\n",
       "      <td>...</td>\n",
       "      <td>...</td>\n",
       "      <td>...</td>\n",
       "    </tr>\n",
       "    <tr>\n",
       "      <th>655</th>\n",
       "      <td>भारत की उन्नति भारतीयों पर निर्भर है</td>\n",
       "      <td>positive</td>\n",
       "      <td>पुलिस अभी इससे बेखबर है पर सूत्रों का कहना है ...</td>\n",
       "      <td>negative</td>\n",
       "      <td>RT @aajtak: 'हिंदू आतंक' से कांग्रेस ने बदनाम ...</td>\n",
       "      <td>neutral</td>\n",
       "    </tr>\n",
       "    <tr>\n",
       "      <th>656</th>\n",
       "      <td>राम ने अपने आप को निर्दोष सिद्ध करने के लिए बह...</td>\n",
       "      <td>positive</td>\n",
       "      <td>रिलायंस कंपनी के कारण उनका आर्थिक और मानसिक उत...</td>\n",
       "      <td>negative</td>\n",
       "      <td>RT @aajtak: क्या हिंदू आतंक पर कांग्रेस को घेर...</td>\n",
       "      <td>neutral</td>\n",
       "    </tr>\n",
       "    <tr>\n",
       "      <th>657</th>\n",
       "      <td>उसने अपने घर की दीवारों पर बहुत सुंदर चित्रांक...</td>\n",
       "      <td>positive</td>\n",
       "      <td>मानसिक तनाव से भी अस्थमा के अटैक होने की संभाव...</td>\n",
       "      <td>negative</td>\n",
       "      <td>RT @aajtak: हिंदुओं को कांग्रेस से डरा रहे हैं...</td>\n",
       "      <td>neutral</td>\n",
       "    </tr>\n",
       "    <tr>\n",
       "      <th>658</th>\n",
       "      <td>याम चित्रकला प्रतियोगिता में प्रथम आया</td>\n",
       "      <td>positive</td>\n",
       "      <td>उनका मानना है कि ये एक ऐसा माध्यम है, जो सीधे ...</td>\n",
       "      <td>negative</td>\n",
       "      <td>हिंदू का सगा कौन, हिंदू को ठगा कौन?\\nअसली हिंद...</td>\n",
       "      <td>neutral</td>\n",
       "    </tr>\n",
       "    <tr>\n",
       "      <th>659</th>\n",
       "      <td>नाटक का प्रस्तुतिकरण अच्छा था</td>\n",
       "      <td>positive</td>\n",
       "      <td>देश के लोगों को अपनी मानसिकता बदलने की जरूरत है।</td>\n",
       "      <td>negative</td>\n",
       "      <td>चुनाव के घमासान में आपकी बात, आपके साथ.\\nअब से...</td>\n",
       "      <td>neutral</td>\n",
       "    </tr>\n",
       "    <tr>\n",
       "      <th>660</th>\n",
       "      <td>ताजमहल कुशल शिल्पियों की एक अनुपम कृति है</td>\n",
       "      <td>positive</td>\n",
       "      <td>अभिभावक आरपार की लड़ाई लड़ने के मूड में हैं।</td>\n",
       "      <td>negative</td>\n",
       "      <td>RT @uttamkrbhardwaj: मेहनत, हिम्मत और लगन से क...</td>\n",
       "      <td>neutral</td>\n",
       "    </tr>\n",
       "    <tr>\n",
       "      <th>661</th>\n",
       "      <td>आच्छाद से वस्तुएँ सुरक्षित रहती हैं</td>\n",
       "      <td>positive</td>\n",
       "      <td>सूत्रों का कहना है कि वह पार्टी में बिल्कुल जश...</td>\n",
       "      <td>negative</td>\n",
       "      <td>फिर अल्पसंख्यक वोट के भरोसे कांग्रेस? https://...</td>\n",
       "      <td>neutral</td>\n",
       "    </tr>\n",
       "    <tr>\n",
       "      <th>662</th>\n",
       "      <td>भगवान कृष्ण विदुर के अतिथि-सत्कार से बहुत ही प...</td>\n",
       "      <td>positive</td>\n",
       "      <td>इस बार युवराज काफी सीरियस मूड में हैं।</td>\n",
       "      <td>negative</td>\n",
       "      <td>चारे में भी बँटवारा कर लोगे, \\nचिटफ़ंड भी हज़म...</td>\n",
       "      <td>neutral</td>\n",
       "    </tr>\n",
       "    <tr>\n",
       "      <th>663</th>\n",
       "      <td>विदेशी लोग भारतीय शिष्टाचार से बहुत प्रभावित ह...</td>\n",
       "      <td>positive</td>\n",
       "      <td>गंभीर अवस्था में कई बच्चों को भर्ती भी करना पड...</td>\n",
       "      <td>negative</td>\n",
       "      <td>RT @aajtak: राहुल गांधी के वायनाड से चुनाव लड़...</td>\n",
       "      <td>neutral</td>\n",
       "    </tr>\n",
       "    <tr>\n",
       "      <th>664</th>\n",
       "      <td>सृजनशील गृहणी घर की शोभा बढ़ाती है।</td>\n",
       "      <td>positive</td>\n",
       "      <td>दरवाजा खोलकर अंदर देखा तो युवक झुलसी अवस्था मे...</td>\n",
       "      <td>negative</td>\n",
       "      <td>RT @aajtak: एक से भले दो..! \\nदेखिए #Dangal @c...</td>\n",
       "      <td>neutral</td>\n",
       "    </tr>\n",
       "    <tr>\n",
       "      <th>665</th>\n",
       "      <td>इस कुर्सी की नक्काशी बहुत सुन्दर है</td>\n",
       "      <td>positive</td>\n",
       "      <td>घायल अवस्था में पुलिस व्यापारी को अस्पताल ले ग...</td>\n",
       "      <td>negative</td>\n",
       "      <td>पप्पू जी का लाल टी-शर्ट नहीं देखे मिश्रा जी? 😉...</td>\n",
       "      <td>neutral</td>\n",
       "    </tr>\n",
       "    <tr>\n",
       "      <th>666</th>\n",
       "      <td>यह मूर्तिकार बहुत अच्छी नक्काशी करता है</td>\n",
       "      <td>positive</td>\n",
       "      <td>इसी दौरान पीछे से आए व्यापारियों ने रविंद्र को...</td>\n",
       "      <td>negative</td>\n",
       "      <td>जितनी बार बगदादी नहीं मरा, उससे ज़्यादा बार तो...</td>\n",
       "      <td>neutral</td>\n",
       "    </tr>\n",
       "    <tr>\n",
       "      <th>667</th>\n",
       "      <td>दूल्हे के सिर पर मौर सुशोभित था</td>\n",
       "      <td>positive</td>\n",
       "      <td>मैंने टीम के बीच सौहार्द्र की भावना को सर्वाधि...</td>\n",
       "      <td>negative</td>\n",
       "      <td>बस ये बात हवाओं को बताए रखना,\\nरौशनी होगी चिरा...</td>\n",
       "      <td>neutral</td>\n",
       "    </tr>\n",
       "    <tr>\n",
       "      <th>668</th>\n",
       "      <td>आपकी बात सार्थक है</td>\n",
       "      <td>positive</td>\n",
       "      <td>मई को होने वाली सुनवाई में आला अधिकारियों की ल...</td>\n",
       "      <td>negative</td>\n",
       "      <td>RT @aajtak: लोकतंत्र में गांधी परिवार देश का प...</td>\n",
       "      <td>neutral</td>\n",
       "    </tr>\n",
       "    <tr>\n",
       "      <th>669</th>\n",
       "      <td>आपका दर्शन हो जाने से मेरा जीवन सार्थक हो गया</td>\n",
       "      <td>positive</td>\n",
       "      <td>शिक्षकों की लापरवाही से बच्चे स्कूल नहीं आ रहे।</td>\n",
       "      <td>negative</td>\n",
       "      <td>बढ़िया है @AalokTweet https://t.co/ViyJ6T2KZN</td>\n",
       "      <td>neutral</td>\n",
       "    </tr>\n",
       "    <tr>\n",
       "      <th>670</th>\n",
       "      <td>वे अपनी विवाहित जिंदगी से बहुत ख़ुश हैं</td>\n",
       "      <td>positive</td>\n",
       "      <td>सलमान पर पहले बांद्रा कोर्ट में मुकदमा चल चुका...</td>\n",
       "      <td>negative</td>\n",
       "      <td>अरे @ZomatoIN, @a4AmitB जी का पैसा वापस दे दीज...</td>\n",
       "      <td>neutral</td>\n",
       "    </tr>\n",
       "    <tr>\n",
       "      <th>671</th>\n",
       "      <td>वह सिनेमा देखकर रोमाचिंत हो उठा</td>\n",
       "      <td>positive</td>\n",
       "      <td>सलमान के खिलाफ लापरवाही से वाहन चलाने और अन्य ...</td>\n",
       "      <td>negative</td>\n",
       "      <td>RT @aajtak: गांधी परिवार देश का प्रथम परिवार क...</td>\n",
       "      <td>neutral</td>\n",
       "    </tr>\n",
       "    <tr>\n",
       "      <th>672</th>\n",
       "      <td>भारतीय सैनिकों ने कुशल सेनापतियों के नेतृत्व म...</td>\n",
       "      <td>positive</td>\n",
       "      <td>डय़ूटी में लापरवाही बरतने और कर्तव्यहीनता के आ...</td>\n",
       "      <td>negative</td>\n",
       "      <td>RT @aajtak: #IndiaElects \\nगांधी परिवार की जयज...</td>\n",
       "      <td>neutral</td>\n",
       "    </tr>\n",
       "    <tr>\n",
       "      <th>673</th>\n",
       "      <td>आजकल राम की वकालत अच्छी चल रही है</td>\n",
       "      <td>positive</td>\n",
       "      <td>परिजनों ने स्कूल प्रबंधन पर लापरवाही का आरोप ल...</td>\n",
       "      <td>negative</td>\n",
       "      <td>गांधी परिवार की जयजयकार से बनाएँगे सरकार?\\nचाक...</td>\n",
       "      <td>neutral</td>\n",
       "    </tr>\n",
       "    <tr>\n",
       "      <th>674</th>\n",
       "      <td>इस काम को करने में उसने मेरी सहायता की</td>\n",
       "      <td>positive</td>\n",
       "      <td>लापरवाही ऐसी कि फ्रिज में रखी जाने वाली दवाओं ...</td>\n",
       "      <td>negative</td>\n",
       "      <td>मोदी जी का वार, राहुल गांधी का पलटवार और आप चल...</td>\n",
       "      <td>neutral</td>\n",
       "    </tr>\n",
       "    <tr>\n",
       "      <th>675</th>\n",
       "      <td>संतोषी व्यक्ति का जीवन आनंदपूर्ण होता है</td>\n",
       "      <td>positive</td>\n",
       "      <td>नौकरी के दो साल बचे हैं तब उस पर लापरवाही का आ...</td>\n",
       "      <td>negative</td>\n",
       "      <td>GST को बदलने और आयुषमान भारत योजना को ख़त्म कर...</td>\n",
       "      <td>neutral</td>\n",
       "    </tr>\n",
       "    <tr>\n",
       "      <th>676</th>\n",
       "      <td>संतुष्टीकरण के अनेक लाभ हैं</td>\n",
       "      <td>positive</td>\n",
       "      <td>जानकारी होने पर उन्होंने इस असावधानी पर कर्मचा...</td>\n",
       "      <td>negative</td>\n",
       "      <td>RT @AalokTweet: का मंदिर की देहरी, का पूजा फ़र...</td>\n",
       "      <td>neutral</td>\n",
       "    </tr>\n",
       "    <tr>\n",
       "      <th>677</th>\n",
       "      <td>यज्ञ आदि आनुष्ठानिक कर्म हैं</td>\n",
       "      <td>positive</td>\n",
       "      <td>यात्रियों को लिनचोली से केदारनाथ तक नि:शुल्क ह...</td>\n",
       "      <td>negative</td>\n",
       "      <td>RT @aajtak: राम नाम लेगी कांग्रेस तो मिलेंगे व...</td>\n",
       "      <td>neutral</td>\n",
       "    </tr>\n",
       "    <tr>\n",
       "      <th>678</th>\n",
       "      <td>वह पराये लोगों की भी सहायता करता है</td>\n",
       "      <td>positive</td>\n",
       "      <td>गफलत पैदा तब हुई, जब आधी रात से टोल टैक्स नहीं...</td>\n",
       "      <td>negative</td>\n",
       "      <td>RT @aajtak: अबकी बार राम नाम की लूट ? देखिए इस...</td>\n",
       "      <td>neutral</td>\n",
       "    </tr>\n",
       "    <tr>\n",
       "      <th>679</th>\n",
       "      <td>जहाँ अधिक वर्षा होती है वहाँ सदाबहार वन पाए जा...</td>\n",
       "      <td>positive</td>\n",
       "      <td>शिक्षा अधिकारी अपनी जिम्मेदारी ईमानदारी से निभ...</td>\n",
       "      <td>negative</td>\n",
       "      <td>RT @aajtak: 'हिन्दू आतंक' के दाग धुलेंगे?\\nइस ...</td>\n",
       "      <td>neutral</td>\n",
       "    </tr>\n",
       "    <tr>\n",
       "      <th>680</th>\n",
       "      <td>ज्यादातर लोग गोरी बहू पसंद करते हैं</td>\n",
       "      <td>positive</td>\n",
       "      <td>हर कोई अपनी जिम्मेवारी से पल्ला झाड़ता नजर आ र...</td>\n",
       "      <td>negative</td>\n",
       "      <td>अयोध्या में प्रियंका, कांग्रेस बजा रही ‘हिंदुत...</td>\n",
       "      <td>neutral</td>\n",
       "    </tr>\n",
       "    <tr>\n",
       "      <th>681</th>\n",
       "      <td>पानी रिमझिम बरस रहा है</td>\n",
       "      <td>positive</td>\n",
       "      <td>मंडी आढ़ती गेहू में घटोतरी के लिए किसी प्रकार ...</td>\n",
       "      <td>negative</td>\n",
       "      <td>RT @Shivendrak: #बहारेंहमकोढूंढेगी ⁦⁦@Akashvan...</td>\n",
       "      <td>neutral</td>\n",
       "    </tr>\n",
       "    <tr>\n",
       "      <th>682</th>\n",
       "      <td>यह देश आभारी है उन वीरों का जो देश की सुरक्षा ...</td>\n",
       "      <td>positive</td>\n",
       "      <td>निगम यह बात कहकर अपनी जिम्मेवारी से नहीं भाग स...</td>\n",
       "      <td>negative</td>\n",
       "      <td>राजनीति के मौसम में छूटे न कोई खबर। हर खबर है ...</td>\n",
       "      <td>neutral</td>\n",
       "    </tr>\n",
       "    <tr>\n",
       "      <th>683</th>\n",
       "      <td>महात्माजी बहुत तेजस्वी हैं</td>\n",
       "      <td>positive</td>\n",
       "      <td>राहुल द्रविड़ ने टीम की कमान संभाली थी और शानद...</td>\n",
       "      <td>negative</td>\n",
       "      <td>RT @AalokTweet: “किसी के पैरों पर गिर कर मंज़ि...</td>\n",
       "      <td>neutral</td>\n",
       "    </tr>\n",
       "    <tr>\n",
       "      <th>684</th>\n",
       "      <td>लोग निर्वाचित प्रतिनिधि को बधाई दे रहे हैं</td>\n",
       "      <td>positive</td>\n",
       "      <td>वेद हमें राष्ट्रीयता की उदात्त भावना से जोड़ते...</td>\n",
       "      <td>negative</td>\n",
       "      <td>RT @aajtak: राहुल के 'धमाके' के सामने मोदी की ...</td>\n",
       "      <td>neutral</td>\n",
       "    </tr>\n",
       "  </tbody>\n",
       "</table>\n",
       "<p>685 rows × 6 columns</p>\n",
       "</div>"
      ],
      "text/plain": [
       "                                              column_0  ... column_5\n",
       "0    मुमकिन है कि रिलायंस कैपिटल का शेयर 330 रुपये ...  ...  neutral\n",
       "1               सितम्बर में इसकी कमिशिनिंग संभावित है।  ...  neutral\n",
       "2    भारतीय कंपनी ने संभावित डील के बारे में कमेंट ...  ...  neutral\n",
       "3    हम अदालत में लड़ाई लड़ने के अलावा इस मामले को ...  ...  neutral\n",
       "4    असल में कोशिश की जा रही है कि संभावित तौर पर क...  ...  neutral\n",
       "5     पोलार्ड और तारे ने असम्भव को सम्भव कर दिखाया था.  ...  neutral\n",
       "6    कॉमरेड धनंजय तिवारी की विशेष रूचि और परिश्रम स...  ...  neutral\n",
       "7    क्रिस लिन ने नामुमकिन कैच को अपने गजब के बॉडी ...  ...  neutral\n",
       "8                     इससे आपके कंधे ताकतवर बन सकेंगे।  ...  neutral\n",
       "9            वह काफी ताकतवर है और उसके पास विविधता है.  ...  neutral\n",
       "10   विलेन जितना दमदार और ताकतवर होगा, उतना ही हीरो...  ...  neutral\n",
       "11   लिहाजा इस जीवनदान के बाद मैक्सवेल बल्ले से और ...  ...  neutral\n",
       "12   उनके ट्विटर में आते ही इस सोशल साइट पर जबरदस्त...  ...  neutral\n",
       "13   मोदी के बीसीसीआई से जुड़ते ही उसके रेवेन्यू मे...  ...  neutral\n",
       "14   राजस्थान की जीत में प्रवीण ताम्बे और शेन वॉटसन...  ...  neutral\n",
       "15   मैन आफ द मैच स्मिथ ने कोटला में ऐसी जबरदस्त बल...  ...  neutral\n",
       "16   इसमें हीरो हीरोइन दमदार कैमेस्ट्री देखने को मि...  ...  neutral\n",
       "17   फिल्म में दमदार भूमिका निभाने के लिए सबसे पहले...  ...  neutral\n",
       "18   अभी तक टूर्नामेंट में उनके लिए केवल आरोन फिंच ...  ...  neutral\n",
       "19   नियम उसे खातों की प्राथमिक जांच के आगे जाने के...  ...  neutral\n",
       "20   नियमों के मुताबिक सिनेमा मालिक आपको चश्मा लेने...  ...  neutral\n",
       "21                टाटा मोटर्स का उपयोगी वाहन मोवस पेश.  ...  neutral\n",
       "22   सलामी बल्लेबाज मुरलीधरन गौतम ने भी 30 रन की उप...  ...  neutral\n",
       "23   कप्तान धौनी और रवींद्र जडेजा ने भी उपयोगी प्रद...  ...  neutral\n",
       "24   हालांकि प्रयोगात्मक विज्ञान और फिक्शन के बीच ब...  ...  neutral\n",
       "25   हर रैन बसेरे के पास पानी का टैंकर होना अनिवार्...  ...  neutral\n",
       "26   इस मौके पर राकेश कुमार ने कहा कि पढ़ाई के साथ ...  ...  neutral\n",
       "27     कांची के पिता वतन की रक्षा करते हुए शहीद हो गए।  ...  neutral\n",
       "28   विकसित देशों में ही नहीं बल्कि अपने देश के रोग...  ...  neutral\n",
       "29   इस सुविधा के तहत पीएफ निकासी सहित अन्य भुगतान ...  ...  neutral\n",
       "..                                                 ...  ...      ...\n",
       "655               भारत की उन्नति भारतीयों पर निर्भर है  ...  neutral\n",
       "656  राम ने अपने आप को निर्दोष सिद्ध करने के लिए बह...  ...  neutral\n",
       "657  उसने अपने घर की दीवारों पर बहुत सुंदर चित्रांक...  ...  neutral\n",
       "658             याम चित्रकला प्रतियोगिता में प्रथम आया  ...  neutral\n",
       "659                      नाटक का प्रस्तुतिकरण अच्छा था  ...  neutral\n",
       "660          ताजमहल कुशल शिल्पियों की एक अनुपम कृति है  ...  neutral\n",
       "661                आच्छाद से वस्तुएँ सुरक्षित रहती हैं  ...  neutral\n",
       "662  भगवान कृष्ण विदुर के अतिथि-सत्कार से बहुत ही प...  ...  neutral\n",
       "663  विदेशी लोग भारतीय शिष्टाचार से बहुत प्रभावित ह...  ...  neutral\n",
       "664                सृजनशील गृहणी घर की शोभा बढ़ाती है।  ...  neutral\n",
       "665                इस कुर्सी की नक्काशी बहुत सुन्दर है  ...  neutral\n",
       "666            यह मूर्तिकार बहुत अच्छी नक्काशी करता है  ...  neutral\n",
       "667                    दूल्हे के सिर पर मौर सुशोभित था  ...  neutral\n",
       "668                                 आपकी बात सार्थक है  ...  neutral\n",
       "669      आपका दर्शन हो जाने से मेरा जीवन सार्थक हो गया  ...  neutral\n",
       "670            वे अपनी विवाहित जिंदगी से बहुत ख़ुश हैं  ...  neutral\n",
       "671                    वह सिनेमा देखकर रोमाचिंत हो उठा  ...  neutral\n",
       "672  भारतीय सैनिकों ने कुशल सेनापतियों के नेतृत्व म...  ...  neutral\n",
       "673                  आजकल राम की वकालत अच्छी चल रही है  ...  neutral\n",
       "674             इस काम को करने में उसने मेरी सहायता की  ...  neutral\n",
       "675           संतोषी व्यक्ति का जीवन आनंदपूर्ण होता है  ...  neutral\n",
       "676                        संतुष्टीकरण के अनेक लाभ हैं  ...  neutral\n",
       "677                       यज्ञ आदि आनुष्ठानिक कर्म हैं  ...  neutral\n",
       "678                वह पराये लोगों की भी सहायता करता है  ...  neutral\n",
       "679  जहाँ अधिक वर्षा होती है वहाँ सदाबहार वन पाए जा...  ...  neutral\n",
       "680                ज्यादातर लोग गोरी बहू पसंद करते हैं  ...  neutral\n",
       "681                             पानी रिमझिम बरस रहा है  ...  neutral\n",
       "682  यह देश आभारी है उन वीरों का जो देश की सुरक्षा ...  ...  neutral\n",
       "683                         महात्माजी बहुत तेजस्वी हैं  ...  neutral\n",
       "684         लोग निर्वाचित प्रतिनिधि को बधाई दे रहे हैं  ...  neutral\n",
       "\n",
       "[685 rows x 6 columns]"
      ]
     },
     "execution_count": 297,
     "metadata": {
      "tags": []
     },
     "output_type": "execute_result"
    }
   ],
   "source": [
    "test_pos"
   ]
  },
  {
   "cell_type": "code",
   "execution_count": 0,
   "metadata": {
    "colab": {},
    "colab_type": "code",
    "id": "5QFddnkrn-OQ"
   },
   "outputs": [],
   "source": [
    "result = []\n",
    "count_pos=0\n",
    "count_pos_neg=0\n",
    "count_neg=0\n",
    "count_neg_pos=0\n",
    "count_neu=0\n",
    "count_neu_pos=0\n",
    "for text in test_pos.column_0:\n",
    "  #print(str(learn.predict(str(text))[0]))\n",
    "  if str(learn.predict(str(text))[0]) == \"positive\":\n",
    "    count_pos+=1\n",
    "  if str(learn.predict(str(text))[0]) == \"negative\":\n",
    "    count_pos_neg+=1\n",
    "    \n",
    "for text in test_pos.column_2:\n",
    "  #print(str(learn.predict(str(text))[0]))\n",
    "  if str(learn.predict(str(text))[0]) == \"negative\":\n",
    "    count_neg+=1\n",
    "  if str(learn.predict(str(text))[0]) == \"positive\":\n",
    "    count_neg_pos+=1\n",
    "    \n",
    "for text in test_pos.column_4:\n",
    "  #print(str(learn.predict(str(text))[0]))\n",
    "  if str(learn.predict(str(text))[0]) == \"neutral\":\n",
    "    count_neu+=1\n",
    "  if str(learn.predict(str(text))[0]) == \"positive\":\n",
    "    count_neu_pos+=1\n",
    "\n",
    "  "
   ]
  },
  {
   "cell_type": "markdown",
   "metadata": {
    "colab_type": "text",
    "id": "gR44bW8K2szO"
   },
   "source": [
    "**Positive Set**"
   ]
  },
  {
   "cell_type": "code",
   "execution_count": 308,
   "metadata": {
    "colab": {
     "base_uri": "https://localhost:8080/",
     "height": 35
    },
    "colab_type": "code",
    "id": "XBTrN6ifqRsw",
    "outputId": "23fe0dae-9254-4f4c-9d2b-498007af5607"
   },
   "outputs": [
    {
     "data": {
      "text/plain": [
       "(0.5539358600583091, 0.4446064139941691, 0.001457725947521804)"
      ]
     },
     "execution_count": 308,
     "metadata": {
      "tags": []
     },
     "output_type": "execute_result"
    }
   ],
   "source": [
    "count_pos/686 , count_pos_neg/686 , 1-count_pos/686-count_pos_neg/686"
   ]
  },
  {
   "cell_type": "markdown",
   "metadata": {
    "colab_type": "text",
    "id": "Cvk2rwS227nK"
   },
   "source": [
    "**Negative Set**"
   ]
  },
  {
   "cell_type": "code",
   "execution_count": 309,
   "metadata": {
    "colab": {
     "base_uri": "https://localhost:8080/",
     "height": 35
    },
    "colab_type": "code",
    "id": "UCcfLXtGrY_k",
    "outputId": "2b07e540-1228-4d18-f0ab-f8afa16c3a8f"
   },
   "outputs": [
    {
     "data": {
      "text/plain": [
       "(0.793002915451895, 0.2055393586005831, 0.0014577259475218596)"
      ]
     },
     "execution_count": 309,
     "metadata": {
      "tags": []
     },
     "output_type": "execute_result"
    }
   ],
   "source": [
    "count_neg/686 , count_neg_pos/686 , 1-count_neg/686-count_neg_pos/686"
   ]
  },
  {
   "cell_type": "markdown",
   "metadata": {
    "colab_type": "text",
    "id": "SWHf4GTv7gA2"
   },
   "source": [
    "**Neutral Set**"
   ]
  },
  {
   "cell_type": "code",
   "execution_count": 310,
   "metadata": {
    "colab": {
     "base_uri": "https://localhost:8080/",
     "height": 35
    },
    "colab_type": "code",
    "id": "bU7pkQcb3Xkd",
    "outputId": "5514c687-9ff4-4968-b0fc-7c6bf71effbf"
   },
   "outputs": [
    {
     "data": {
      "text/plain": [
       "(0.8221574344023324, 0.16034985422740525, 0.017492711370262398)"
      ]
     },
     "execution_count": 310,
     "metadata": {
      "tags": []
     },
     "output_type": "execute_result"
    }
   ],
   "source": [
    "count_neu/686 , count_neu_pos/686 , 1-count_neu/686-count_neu_pos/686"
   ]
  },
  {
   "cell_type": "code",
   "execution_count": 0,
   "metadata": {
    "colab": {},
    "colab_type": "code",
    "id": "k56QGZX38nlU"
   },
   "outputs": [],
   "source": []
  }
 ],
 "metadata": {
  "accelerator": "GPU",
  "colab": {
   "collapsed_sections": [],
   "name": "Copy of hindi.ipynb",
   "provenance": [],
   "version": "0.3.2"
  },
  "kernelspec": {
   "display_name": "Python 3",
   "language": "python",
   "name": "python3"
  },
  "language_info": {
   "codemirror_mode": {
    "name": "ipython",
    "version": 3
   },
   "file_extension": ".py",
   "mimetype": "text/x-python",
   "name": "python",
   "nbconvert_exporter": "python",
   "pygments_lexer": "ipython3",
   "version": "3.6.7"
  }
 },
 "nbformat": 4,
 "nbformat_minor": 1
}
